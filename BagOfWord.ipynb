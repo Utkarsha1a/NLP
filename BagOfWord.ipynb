{
  "nbformat": 4,
  "nbformat_minor": 0,
  "metadata": {
    "colab": {
      "name": "BagOfWord.ipynb",
      "provenance": [],
      "authorship_tag": "ABX9TyMf+Xkpej525QznVnf1MnDf",
      "include_colab_link": true
    },
    "kernelspec": {
      "name": "python3",
      "display_name": "Python 3"
    },
    "language_info": {
      "name": "python"
    },
    "accelerator": "GPU"
  },
  "cells": [
    {
      "cell_type": "markdown",
      "metadata": {
        "id": "view-in-github",
        "colab_type": "text"
      },
      "source": [
        "<a href=\"https://colab.research.google.com/github/Utkarsha1a/NLP/blob/main/BagOfWord.ipynb\" target=\"_parent\"><img src=\"https://colab.research.google.com/assets/colab-badge.svg\" alt=\"Open In Colab\"/></a>"
      ]
    },
    {
      "cell_type": "markdown",
      "source": [
        "# What is a Bag-of-Words?\n",
        "**A bag-of-words is a representation of text that describes the occurrence of words within a document.**\n",
        "\n",
        "Lets take below three types of movie reviews:\n",
        "\n",
        "Review 1: This movie is very scary and long\n",
        "\n",
        "Review 2: This movie is not scary and is slow\n",
        "\n",
        "Review 3: This movie is spooky and good\n",
        "\n",
        "We will first build a vocabulary from all the unique words in the above three reviews. The vocabulary consists of these 11 words: \n",
        "\n",
        "*‘This’, ‘movie’, ‘is’, ‘very’, ‘scary’, ‘and’, ‘long’, ‘not’,  ‘slow’, ‘spooky’,  ‘good’.*\n",
        "\n",
        "We can now take each of these words and mark their occurrence in the three movie reviews above with 1s and 0s. This will give us 3 vectors for 3 reviews:"
      ],
      "metadata": {
        "id": "ys7srWQrdWA1"
      }
    },
    {
      "cell_type": "markdown",
      "source": [
        "![image.png](data:image/png;base64,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)"
      ],
      "metadata": {
        "id": "0hQJvJVSYz1C"
      }
    },
    {
      "cell_type": "markdown",
      "source": [
        "Drawbacks of using a Bag-of-Words (BoW) Model\n",
        "In the above example, we can have vectors of length 11. However, we start facing issues when we come across new sentences:\n",
        "\n",
        "1 If the new sentences contain new words, then our vocabulary size would increase and thereby, the length of the vectors would increase too.\n",
        "\n",
        "2 Additionally, the vectors would also contain many 0s, thereby resulting in a sparse matrix (which is what we would like to avoid)\n",
        "\n",
        "3 We are retaining no information on the grammar of the sentences nor on the ordering of the words in the text"
      ],
      "metadata": {
        "id": "_dbR6aWWY-B6"
      }
    },
    {
      "cell_type": "code",
      "source": [
        "import nltk\n",
        "import re\n",
        "from nltk.corpus import stopwords\n",
        "from nltk.stem.porter import PorterStemmer\n",
        "from nltk.stem import WordNetLemmatizer"
      ],
      "metadata": {
        "id": "PlyPRLlZd4B1"
      },
      "execution_count": 88,
      "outputs": []
    },
    {
      "cell_type": "code",
      "source": [
        "paragraph =  \"\"\"I have three visions for India. In 3000 years of our history, people from all over \n",
        "               the world have come and invaded us, captured our lands, conquered our minds. \n",
        "               From Alexander onwards, the Greeks, the Turks, the Moguls, the Portuguese, the British,\n",
        "               the French, the Dutch, all of them came and looted us, took over what was ours. \n",
        "               Yet we have not done this to any other nation. We have not conquered anyone. \n",
        "               We have not grabbed their land, their culture, \n",
        "               their history and tried to enforce our way of life on them. \n",
        "               Why? Because we respect the freedom of others.That is why my \n",
        "               first vision is that of freedom. I believe that India got its first vision of \n",
        "               this in 1857, when we started the War of Independence. It is this freedom that\n",
        "               we must protect and nurture and build on. If we are not free, no one will respect us.\n",
        "               My second vision for India’s development. For fifty years we have been a developing nation.\n",
        "               It is time we see ourselves as a developed nation. We are among the top 5 nations of the world\n",
        "               in terms of GDP. We have a 10 percent growth rate in most areas. Our poverty levels are falling.\n",
        "               Our achievements are being globally recognised today. Yet we lack the self-confidence to\n",
        "               see ourselves as a developed nation, self-reliant and self-assured. Isn’t this incorrect?\n",
        "               I have a third vision. India must stand up to the world. Because I believe that unless India \n",
        "               stands up to the world, no one will respect us. Only strength respects strength. We must be \n",
        "               strong not only as a military power but also as an economic power. Both must go hand-in-hand. \n",
        "               My good fortune was to have worked with three great minds. Dr. Vikram Sarabhai of the Dept. of \n",
        "               space, Professor Satish Dhawan, who succeeded him and Dr. Brahm Prakash, father of nuclear material.\n",
        "               I was lucky to have worked with all three of them closely and consider this the great opportunity of my life. \n",
        "               I see four milestones in my career\"\"\"\n",
        "               \n",
        "               "
      ],
      "metadata": {
        "id": "M532F5ZRdWJN"
      },
      "execution_count": 89,
      "outputs": []
    },
    {
      "cell_type": "code",
      "source": [
        "# Cleaning the texts\n",
        "ps = PorterStemmer()\n",
        "wordnet=WordNetLemmatizer()\n",
        "sentences = nltk.sent_tokenize(paragraph)\n",
        "corpus = []\n",
        "for i in range(len(sentences)):\n",
        "    review = re.sub('[^a-zA-Z]', ' ', sentences[i])\n",
        "    review = review.lower()\n",
        "    review = review.split()\n",
        "    review = [wordnet.lemmatize(word) for word in review if not word in set(stopwords.words('english'))]\n",
        "    review = ' '.join(review)\n",
        "    corpus.append(review)"
      ],
      "metadata": {
        "id": "sh2dQhzPdWU0"
      },
      "execution_count": 90,
      "outputs": []
    },
    {
      "cell_type": "code",
      "source": [
        "print(corpus)"
      ],
      "metadata": {
        "colab": {
          "base_uri": "https://localhost:8080/"
        },
        "id": "ydX1Q4eNdb2N",
        "outputId": "a9e24e77-097c-4cab-e2ef-42d8351b173b"
      },
      "execution_count": 91,
      "outputs": [
        {
          "output_type": "stream",
          "name": "stdout",
          "text": [
            "['three vision india', 'year history people world come invaded u captured land conquered mind', 'alexander onwards greek turk mogul portuguese british french dutch came looted u took', 'yet done nation', 'conquered anyone', 'grabbed land culture history tried enforce way life', '', 'respect freedom others first vision freedom', 'believe india got first vision started war independence', 'freedom must protect nurture build', 'free one respect u', 'second vision india development', 'fifty year developing nation', 'time see developed nation', 'among top nation world term gdp', 'percent growth rate area', 'poverty level falling', 'achievement globally recognised today', 'yet lack self confidence see developed nation self reliant self assured', 'incorrect', 'third vision', 'india must stand world', 'believe unless india stand world one respect u', 'strength respect strength', 'must strong military power also economic power', 'must go hand hand', 'good fortune worked three great mind', 'dr vikram sarabhai dept', 'space professor satish dhawan succeeded dr brahm prakash father nuclear material', 'lucky worked three closely consider great opportunity life', 'see four milestone career']\n"
          ]
        }
      ]
    },
    {
      "cell_type": "code",
      "source": [
        "# Creating the Bag of Words model\n",
        "from sklearn.feature_extraction.text import CountVectorizer"
      ],
      "metadata": {
        "id": "peZ-Kjyfd-MX"
      },
      "execution_count": 92,
      "outputs": []
    },
    {
      "cell_type": "code",
      "source": [
        "cv = CountVectorizer(max_features = 1500)\n",
        "X = cv.fit_transform(corpus).toarray()"
      ],
      "metadata": {
        "id": "SPyEKNMneAIm"
      },
      "execution_count": 93,
      "outputs": []
    },
    {
      "cell_type": "code",
      "source": [
        "print(corpus[1])"
      ],
      "metadata": {
        "colab": {
          "base_uri": "https://localhost:8080/"
        },
        "id": "83q7FfNBfOgj",
        "outputId": "4d702fd6-687a-4a12-c4d9-ec48c0530b6e"
      },
      "execution_count": 99,
      "outputs": [
        {
          "output_type": "stream",
          "name": "stdout",
          "text": [
            "year history people world come invaded u captured land conquered mind\n"
          ]
        }
      ]
    },
    {
      "cell_type": "code",
      "source": [
        "print(X[1])"
      ],
      "metadata": {
        "colab": {
          "base_uri": "https://localhost:8080/"
        },
        "id": "UFKUQJxUfLJT",
        "outputId": "df6b6392-144d-4423-df61-0d0cc26dc0dd"
      },
      "execution_count": 100,
      "outputs": [
        {
          "output_type": "stream",
          "name": "stdout",
          "text": [
            "[0 0 0 0 0 0 0 0 0 0 0 0 1 0 0 1 0 1 0 0 0 0 0 0 0 0 0 0 0 0 0 0 0 0 0 0 0\n",
            " 0 0 0 0 0 0 0 0 0 0 0 0 1 0 0 0 1 0 1 0 0 0 0 0 0 0 1 0 0 0 0 0 0 0 0 0 1\n",
            " 0 0 0 0 0 0 0 0 0 0 0 0 0 0 0 0 0 0 0 0 0 0 0 0 0 0 0 0 0 0 0 0 0 0 0 0 0\n",
            " 1 1 0]\n"
          ]
        }
      ]
    },
    {
      "cell_type": "code",
      "source": [
        "for x in range(len(X)):\n",
        "    print(X[x])"
      ],
      "metadata": {
        "colab": {
          "base_uri": "https://localhost:8080/"
        },
        "id": "_uAmw7BVeGBX",
        "outputId": "60e491ac-1d5d-4cb0-abe1-729b4ec9251a"
      },
      "execution_count": 96,
      "outputs": [
        {
          "output_type": "stream",
          "name": "stdout",
          "text": [
            "[0 0 0 0 0 0 0 0 0 0 0 0 0 0 0 0 0 0 0 0 0 0 0 0 0 0 0 0 0 0 0 0 0 0 0 0 0\n",
            " 0 0 0 0 0 0 0 0 0 0 0 0 0 0 0 1 0 0 0 0 0 0 0 0 0 0 0 0 0 0 0 0 0 0 0 0 0\n",
            " 0 0 0 0 0 0 0 0 0 0 0 0 0 0 0 0 0 0 0 0 0 0 0 0 1 0 0 0 0 0 0 0 0 1 0 0 0\n",
            " 0 0 0]\n",
            "[0 0 0 0 0 0 0 0 0 0 0 0 1 0 0 1 0 1 0 0 0 0 0 0 0 0 0 0 0 0 0 0 0 0 0 0 0\n",
            " 0 0 0 0 0 0 0 0 0 0 0 0 1 0 0 0 1 0 1 0 0 0 0 0 0 0 1 0 0 0 0 0 0 0 0 0 1\n",
            " 0 0 0 0 0 0 0 0 0 0 0 0 0 0 0 0 0 0 0 0 0 0 0 0 0 0 0 0 0 0 0 0 0 0 0 0 0\n",
            " 1 1 0]\n",
            "[0 1 0 0 0 0 0 0 0 1 0 1 0 0 0 0 0 0 0 0 0 0 0 0 0 0 0 1 0 0 0 0 0 0 0 0 0\n",
            " 0 1 0 0 0 0 0 0 0 1 0 0 0 0 0 0 0 0 0 0 0 1 0 0 0 0 0 1 0 0 0 0 0 1 0 0 0\n",
            " 0 1 0 0 0 0 0 0 0 0 0 0 0 0 0 0 0 0 0 0 0 0 0 0 0 0 0 1 0 0 1 0 0 0 0 0 0\n",
            " 0 0 0]\n",
            "[0 0 0 0 0 0 0 0 0 0 0 0 0 0 0 0 0 0 0 0 0 0 0 0 0 1 0 0 0 0 0 0 0 0 0 0 0\n",
            " 0 0 0 0 0 0 0 0 0 0 0 0 0 0 0 0 0 0 0 0 0 0 0 0 0 0 0 0 0 1 0 0 0 0 0 0 0\n",
            " 0 0 0 0 0 0 0 0 0 0 0 0 0 0 0 0 0 0 0 0 0 0 0 0 0 0 0 0 0 0 0 0 0 0 0 0 0\n",
            " 0 0 1]\n",
            "[0 0 0 0 1 0 0 0 0 0 0 0 0 0 0 0 0 1 0 0 0 0 0 0 0 0 0 0 0 0 0 0 0 0 0 0 0\n",
            " 0 0 0 0 0 0 0 0 0 0 0 0 0 0 0 0 0 0 0 0 0 0 0 0 0 0 0 0 0 0 0 0 0 0 0 0 0\n",
            " 0 0 0 0 0 0 0 0 0 0 0 0 0 0 0 0 0 0 0 0 0 0 0 0 0 0 0 0 0 0 0 0 0 0 0 0 0\n",
            " 0 0 0]\n",
            "[0 0 0 0 0 0 0 0 0 0 0 0 0 0 0 0 0 0 0 1 0 0 0 0 0 0 0 0 0 1 0 0 0 0 0 0 0\n",
            " 0 0 0 0 0 0 0 1 0 0 0 0 1 0 0 0 0 0 1 0 1 0 0 0 0 0 0 0 0 0 0 0 0 0 0 0 0\n",
            " 0 0 0 0 0 0 0 0 0 0 0 0 0 0 0 0 0 0 0 0 0 0 0 0 0 0 0 0 0 1 0 0 0 0 0 1 0\n",
            " 0 0 0]\n",
            "[0 0 0 0 0 0 0 0 0 0 0 0 0 0 0 0 0 0 0 0 0 0 0 0 0 0 0 0 0 0 0 0 0 0 0 0 0\n",
            " 0 0 0 0 0 0 0 0 0 0 0 0 0 0 0 0 0 0 0 0 0 0 0 0 0 0 0 0 0 0 0 0 0 0 0 0 0\n",
            " 0 0 0 0 0 0 0 0 0 0 0 0 0 0 0 0 0 0 0 0 0 0 0 0 0 0 0 0 0 0 0 0 0 0 0 0 0\n",
            " 0 0 0]\n",
            "[0 0 0 0 0 0 0 0 0 0 0 0 0 0 0 0 0 0 0 0 0 0 0 0 0 0 0 0 0 0 0 0 0 1 0 0 0\n",
            " 2 0 0 0 0 0 0 0 0 0 0 0 0 0 0 0 0 0 0 0 0 0 0 0 0 0 0 0 0 0 0 0 0 0 0 1 0\n",
            " 0 0 0 0 0 0 0 0 0 0 1 0 0 0 0 0 0 0 0 0 0 0 0 0 0 0 0 0 0 0 0 0 0 1 0 0 0\n",
            " 0 0 0]\n",
            "[0 0 0 0 0 0 0 1 0 0 0 0 0 0 0 0 0 0 0 0 0 0 0 0 0 0 0 0 0 0 0 0 0 1 0 0 0\n",
            " 0 0 0 0 0 0 1 0 0 0 0 0 0 0 1 1 0 0 0 0 0 0 0 0 0 0 0 0 0 0 0 0 0 0 0 0 0\n",
            " 0 0 0 0 0 0 0 0 0 0 0 0 0 0 0 0 0 0 1 0 0 0 0 0 0 0 0 0 0 0 0 0 0 1 1 0 0\n",
            " 0 0 0]\n",
            "[0 0 0 0 0 0 0 0 0 0 1 0 0 0 0 0 0 0 0 0 0 0 0 0 0 0 0 0 0 0 0 0 0 0 0 0 0\n",
            " 1 0 0 0 0 0 0 0 0 0 0 0 0 0 0 0 0 0 0 0 0 0 0 0 0 0 0 0 1 0 0 1 0 0 0 0 0\n",
            " 0 0 0 0 0 0 1 0 0 0 0 0 0 0 0 0 0 0 0 0 0 0 0 0 0 0 0 0 0 0 0 0 0 0 0 0 0\n",
            " 0 0 0]\n",
            "[0 0 0 0 0 0 0 0 0 0 0 0 0 0 0 0 0 0 0 0 0 0 0 0 0 0 0 0 0 0 0 0 0 0 0 0 1\n",
            " 0 0 0 0 0 0 0 0 0 0 0 0 0 0 0 0 0 0 0 0 0 0 0 0 0 0 0 0 0 0 0 0 1 0 0 0 0\n",
            " 0 0 0 0 0 0 0 0 0 0 1 0 0 0 0 0 0 0 0 0 0 0 0 0 0 0 0 0 0 0 0 0 0 0 0 0 0\n",
            " 0 0 0]\n",
            "[0 0 0 0 0 0 0 0 0 0 0 0 0 0 0 0 0 0 0 0 0 0 0 1 0 0 0 0 0 0 0 0 0 0 0 0 0\n",
            " 0 0 0 0 0 0 0 0 0 0 0 0 0 0 0 1 0 0 0 0 0 0 0 0 0 0 0 0 0 0 0 0 0 0 0 0 0\n",
            " 0 0 0 0 0 0 0 0 0 0 0 0 0 1 0 0 0 0 0 0 0 0 0 0 0 0 0 0 0 0 0 0 0 1 0 0 0\n",
            " 0 0 0]\n",
            "[0 0 0 0 0 0 0 0 0 0 0 0 0 0 0 0 0 0 0 0 0 0 1 0 0 0 0 0 0 0 0 0 1 0 0 0 0\n",
            " 0 0 0 0 0 0 0 0 0 0 0 0 0 0 0 0 0 0 0 0 0 0 0 0 0 0 0 0 0 1 0 0 0 0 0 0 0\n",
            " 0 0 0 0 0 0 0 0 0 0 0 0 0 0 0 0 0 0 0 0 0 0 0 0 0 0 0 0 0 0 0 0 0 0 0 0 0\n",
            " 0 1 0]\n",
            "[0 0 0 0 0 0 0 0 0 0 0 0 0 0 0 0 0 0 0 0 0 1 0 0 0 0 0 0 0 0 0 0 0 0 0 0 0\n",
            " 0 0 0 0 0 0 0 0 0 0 0 0 0 0 0 0 0 0 0 0 0 0 0 0 0 0 0 0 0 1 0 0 0 0 0 0 0\n",
            " 0 0 0 0 0 0 0 0 0 0 0 0 0 0 1 0 0 0 0 0 0 0 0 0 0 1 0 0 0 0 0 0 0 0 0 0 0\n",
            " 0 0 0]\n",
            "[0 0 0 1 0 0 0 0 0 0 0 0 0 0 0 0 0 0 0 0 0 0 0 0 0 0 0 0 0 0 0 0 0 0 0 0 0\n",
            " 0 0 1 0 0 0 0 0 0 0 0 0 0 0 0 0 0 0 0 0 0 0 0 0 0 0 0 0 0 1 0 0 0 0 0 0 0\n",
            " 0 0 0 0 0 0 0 0 0 0 0 0 0 0 0 0 0 0 0 0 0 0 1 0 0 0 0 0 1 0 0 0 0 0 0 0 0\n",
            " 1 0 0]\n",
            "[0 0 0 0 0 1 0 0 0 0 0 0 0 0 0 0 0 0 0 0 0 0 0 0 0 0 0 0 0 0 0 0 0 0 0 0 0\n",
            " 0 0 0 0 0 0 0 0 0 0 1 0 0 0 0 0 0 0 0 0 0 0 0 0 0 0 0 0 0 0 0 0 0 0 0 0 0\n",
            " 1 0 0 0 0 0 0 1 0 0 0 0 0 0 0 0 0 0 0 0 0 0 0 0 0 0 0 0 0 0 0 0 0 0 0 0 0\n",
            " 0 0 0]\n",
            "[0 0 0 0 0 0 0 0 0 0 0 0 0 0 0 0 0 0 0 0 0 0 0 0 0 0 0 0 0 0 1 0 0 0 0 0 0\n",
            " 0 0 0 0 0 0 0 0 0 0 0 0 0 0 0 0 0 0 0 1 0 0 0 0 0 0 0 0 0 0 0 0 0 0 0 0 0\n",
            " 0 0 1 0 0 0 0 0 0 0 0 0 0 0 0 0 0 0 0 0 0 0 0 0 0 0 0 0 0 0 0 0 0 0 0 0 0\n",
            " 0 0 0]\n",
            "[1 0 0 0 0 0 0 0 0 0 0 0 0 0 0 0 0 0 0 0 0 0 0 0 0 0 0 0 0 0 0 0 0 0 0 0 0\n",
            " 0 0 0 1 0 0 0 0 0 0 0 0 0 0 0 0 0 0 0 0 0 0 0 0 0 0 0 0 0 0 0 0 0 0 0 0 0\n",
            " 0 0 0 0 0 0 0 0 1 0 0 0 0 0 0 0 0 0 0 0 0 0 0 0 0 0 1 0 0 0 0 0 0 0 0 0 0\n",
            " 0 0 0]\n",
            "[0 0 0 0 0 0 1 0 0 0 0 0 0 0 0 0 1 0 0 0 0 1 0 0 0 0 0 0 0 0 0 0 0 0 0 0 0\n",
            " 0 0 0 0 0 0 0 0 0 0 0 0 0 0 0 0 0 1 0 0 0 0 0 0 0 0 0 0 0 1 0 0 0 0 0 0 0\n",
            " 0 0 0 0 0 0 0 0 0 1 0 0 0 0 1 3 0 0 0 0 0 0 0 0 0 0 0 0 0 0 0 0 0 0 0 0 0\n",
            " 0 0 1]\n",
            "[0 0 0 0 0 0 0 0 0 0 0 0 0 0 0 0 0 0 0 0 0 0 0 0 0 0 0 0 0 0 0 0 0 0 0 0 0\n",
            " 0 0 0 0 0 0 0 0 0 0 0 0 0 1 0 0 0 0 0 0 0 0 0 0 0 0 0 0 0 0 0 0 0 0 0 0 0\n",
            " 0 0 0 0 0 0 0 0 0 0 0 0 0 0 0 0 0 0 0 0 0 0 0 0 0 0 0 0 0 0 0 0 0 0 0 0 0\n",
            " 0 0 0]\n",
            "[0 0 0 0 0 0 0 0 0 0 0 0 0 0 0 0 0 0 0 0 0 0 0 0 0 0 0 0 0 0 0 0 0 0 0 0 0\n",
            " 0 0 0 0 0 0 0 0 0 0 0 0 0 0 0 0 0 0 0 0 0 0 0 0 0 0 0 0 0 0 0 0 0 0 0 0 0\n",
            " 0 0 0 0 0 0 0 0 0 0 0 0 0 0 0 0 0 0 0 0 0 0 0 1 0 0 0 0 0 0 0 0 0 1 0 0 0\n",
            " 0 0 0]\n",
            "[0 0 0 0 0 0 0 0 0 0 0 0 0 0 0 0 0 0 0 0 0 0 0 0 0 0 0 0 0 0 0 0 0 0 0 0 0\n",
            " 0 0 0 0 0 0 0 0 0 0 0 0 0 0 0 1 0 0 0 0 0 0 0 0 0 0 0 0 1 0 0 0 0 0 0 0 0\n",
            " 0 0 0 0 0 0 0 0 0 0 0 0 0 0 0 0 0 1 0 0 0 0 0 0 0 0 0 0 0 0 0 0 0 0 0 0 0\n",
            " 1 0 0]\n",
            "[0 0 0 0 0 0 0 1 0 0 0 0 0 0 0 0 0 0 0 0 0 0 0 0 0 0 0 0 0 0 0 0 0 0 0 0 0\n",
            " 0 0 0 0 0 0 0 0 0 0 0 0 0 0 0 1 0 0 0 0 0 0 0 0 0 0 0 0 0 0 0 0 1 0 0 0 0\n",
            " 0 0 0 0 0 0 0 0 0 0 1 0 0 0 0 0 0 1 0 0 0 0 0 0 0 0 0 0 0 0 0 1 0 0 0 0 0\n",
            " 1 0 0]\n",
            "[0 0 0 0 0 0 0 0 0 0 0 0 0 0 0 0 0 0 0 0 0 0 0 0 0 0 0 0 0 0 0 0 0 0 0 0 0\n",
            " 0 0 0 0 0 0 0 0 0 0 0 0 0 0 0 0 0 0 0 0 0 0 0 0 0 0 0 0 0 0 0 0 0 0 0 0 0\n",
            " 0 0 0 0 0 0 0 0 0 0 1 0 0 0 0 0 0 0 0 2 0 0 0 0 0 0 0 0 0 0 0 0 0 0 0 0 0\n",
            " 0 0 0]\n",
            "[0 0 1 0 0 0 0 0 0 0 0 0 0 0 0 0 0 0 0 0 0 0 0 0 0 0 0 0 1 0 0 0 0 0 0 0 0\n",
            " 0 0 0 0 0 0 0 0 0 0 0 0 0 0 0 0 0 0 0 0 0 0 0 0 0 1 0 0 1 0 0 0 0 0 0 0 0\n",
            " 0 0 0 2 0 0 0 0 0 0 0 0 0 0 0 0 0 0 0 0 1 0 0 0 0 0 0 0 0 0 0 0 0 0 0 0 0\n",
            " 0 0 0]\n",
            "[0 0 0 0 0 0 0 0 0 0 0 0 0 0 0 0 0 0 0 0 0 0 0 0 0 0 0 0 0 0 0 0 0 0 0 0 0\n",
            " 0 0 0 0 1 0 0 0 0 0 0 2 0 0 0 0 0 0 0 0 0 0 0 0 0 0 0 0 1 0 0 0 0 0 0 0 0\n",
            " 0 0 0 0 0 0 0 0 0 0 0 0 0 0 0 0 0 0 0 0 0 0 0 0 0 0 0 0 0 0 0 0 0 0 0 0 0\n",
            " 0 0 0]\n",
            "[0 0 0 0 0 0 0 0 0 0 0 0 0 0 0 0 0 0 0 0 0 0 0 0 0 0 0 0 0 0 0 0 0 0 1 0 0\n",
            " 0 0 0 0 0 1 0 0 1 0 0 0 0 0 0 0 0 0 0 0 0 0 0 0 0 0 1 0 0 0 0 0 0 0 0 0 0\n",
            " 0 0 0 0 0 0 0 0 0 0 0 0 0 0 0 0 0 0 0 0 0 0 0 0 1 0 0 0 0 0 0 0 0 0 0 0 1\n",
            " 0 0 0]\n",
            "[0 0 0 0 0 0 0 0 0 0 0 0 0 0 0 0 0 0 0 0 1 0 0 0 0 0 1 0 0 0 0 0 0 0 0 0 0\n",
            " 0 0 0 0 0 0 0 0 0 0 0 0 0 0 0 0 0 0 0 0 0 0 0 0 0 0 0 0 0 0 0 0 0 0 0 0 0\n",
            " 0 0 0 0 0 0 0 0 0 0 0 1 0 0 0 0 0 0 0 0 0 0 0 0 0 0 0 0 0 0 0 0 1 0 0 0 0\n",
            " 0 0 0]\n",
            "[0 0 0 0 0 0 0 0 1 0 0 0 0 0 0 0 0 0 0 0 0 0 0 0 1 0 1 0 0 0 0 1 0 0 0 0 0\n",
            " 0 0 0 0 0 0 0 0 0 0 0 0 0 0 0 0 0 0 0 0 0 0 0 1 0 0 0 0 0 0 1 0 0 0 0 0 0\n",
            " 0 0 0 0 1 1 0 0 0 0 0 0 1 0 0 0 1 0 0 0 0 1 0 0 0 0 0 0 0 0 0 0 0 0 0 0 0\n",
            " 0 0 0]\n",
            "[0 0 0 0 0 0 0 0 0 0 0 0 0 0 1 0 0 0 1 0 0 0 0 0 0 0 0 0 0 0 0 0 0 0 0 0 0\n",
            " 0 0 0 0 0 0 0 0 1 0 0 0 0 0 0 0 0 0 0 0 1 0 1 0 0 0 0 0 0 0 0 0 0 0 1 0 0\n",
            " 0 0 0 0 0 0 0 0 0 0 0 0 0 0 0 0 0 0 0 0 0 0 0 0 1 0 0 0 0 0 0 0 0 0 0 0 1\n",
            " 0 0 0]\n",
            "[0 0 0 0 0 0 0 0 0 0 0 0 0 1 0 0 0 0 0 0 0 0 0 0 0 0 0 0 0 0 0 0 0 0 0 1 0\n",
            " 0 0 0 0 0 0 0 0 0 0 0 0 0 0 0 0 0 0 0 0 0 0 0 0 1 0 0 0 0 0 0 0 0 0 0 0 0\n",
            " 0 0 0 0 0 0 0 0 0 0 0 0 0 0 1 0 0 0 0 0 0 0 0 0 0 0 0 0 0 0 0 0 0 0 0 0 0\n",
            " 0 0 0]\n"
          ]
        }
      ]
    },
    {
      "cell_type": "code",
      "source": [
        "def vectorize(tokens):\n",
        "    ''' This function takes list of words in a sentence as input \n",
        "    and returns a vector of size of filtered_vocab.It puts 0 if the \n",
        "    word is not present in tokens and count of token if present.'''\n",
        "    vector=[]\n",
        "    for w in filtered_vocab:\n",
        "        vector.append(tokens.count(w))\n",
        "    return vector\n",
        "def unique(sequence):\n",
        "    '''This functions returns a list in which the order remains \n",
        "    same and no item repeats.Using the set() function does not \n",
        "    preserve the original ordering,so i didnt use that instead'''\n",
        "    seen = set()\n",
        "    return [x for x in sequence if not (x in seen or seen.add(x))]\n",
        "#create a list of stopwords.You can import stopwords from nltk too\n",
        "stopwords=[\"to\",\"is\",\"a\"]\n",
        "#list of special characters.You can use regular expressions too\n",
        "special_char=[\",\",\":\",\" \",\";\",\".\",\"?\"]\n",
        "#Write the sentences in the corpus,in our case, just two \n",
        "string1=\"Welcome to Great Learning , Now start learning\"\n",
        "string2=\"Learning is a good practice\"\n",
        "#convert them to lower case\n",
        "string1=string1.lower()\n",
        "string2=string2.lower()\n",
        "#split the sentences into tokens\n",
        "tokens1=string1.split()\n",
        "tokens2=string2.split()\n",
        "print(tokens1)\n",
        "print(tokens2)\n",
        "#create a vocabulary list\n",
        "vocab=unique(tokens1+tokens2)\n",
        "print(vocab)\n",
        "#filter the vocabulary list\n",
        "filtered_vocab=[]\n",
        "for w in vocab: \n",
        "    if w not in stopwords and w not in special_char: \n",
        "        filtered_vocab.append(w)\n",
        "print(filtered_vocab)\n",
        "#convert sentences into vectords\n",
        "vector1=vectorize(tokens1)\n",
        "print(vector1)\n",
        "vector2=vectorize(tokens2)\n",
        "print(vector2)"
      ],
      "metadata": {
        "colab": {
          "base_uri": "https://localhost:8080/"
        },
        "id": "Vt_vv2XxPkFa",
        "outputId": "6c50aff8-629a-4d2e-d005-db4b0a6fbd7e"
      },
      "execution_count": 1,
      "outputs": [
        {
          "output_type": "stream",
          "name": "stdout",
          "text": [
            "['welcome', 'to', 'great', 'learning', ',', 'now', 'start', 'learning']\n",
            "['learning', 'is', 'a', 'good', 'practice']\n",
            "['welcome', 'to', 'great', 'learning', ',', 'now', 'start', 'is', 'a', 'good', 'practice']\n",
            "['welcome', 'great', 'learning', 'now', 'start', 'good', 'practice']\n",
            "[1, 1, 2, 1, 1, 0, 0]\n",
            "[0, 0, 1, 0, 0, 1, 1]\n"
          ]
        }
      ]
    }
  ]
}