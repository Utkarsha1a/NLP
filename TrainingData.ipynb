{
  "nbformat": 4,
  "nbformat_minor": 0,
  "metadata": {
    "colab": {
      "provenance": [],
      "authorship_tag": "ABX9TyNzGbONWJGLqy2dOzdb2aO3",
      "include_colab_link": true
    },
    "kernelspec": {
      "name": "python3",
      "display_name": "Python 3"
    },
    "language_info": {
      "name": "python"
    }
  },
  "cells": [
    {
      "cell_type": "markdown",
      "metadata": {
        "id": "view-in-github",
        "colab_type": "text"
      },
      "source": [
        "<a href=\"https://colab.research.google.com/github/Utkarsha1a/NLP/blob/main/TrainingData.ipynb\" target=\"_parent\"><img src=\"https://colab.research.google.com/assets/colab-badge.svg\" alt=\"Open In Colab\"/></a>"
      ]
    },
    {
      "cell_type": "code",
      "execution_count": 1,
      "metadata": {
        "colab": {
          "base_uri": "https://localhost:8080/"
        },
        "id": "dehAB3873E-9",
        "outputId": "cd04884f-e112-46ad-f7fe-69825790df3f"
      },
      "outputs": [
        {
          "output_type": "stream",
          "name": "stdout",
          "text": [
            "Looking in indexes: https://pypi.org/simple, https://us-python.pkg.dev/colab-wheels/public/simple/\n",
            "Collecting python-docx\n",
            "  Downloading python-docx-0.8.11.tar.gz (5.6 MB)\n",
            "\u001b[2K     \u001b[90m━━━━━━━━━━━━━━━━━━━━━━━━━━━━━━━━━━━━━━━━\u001b[0m \u001b[32m5.6/5.6 MB\u001b[0m \u001b[31m75.3 MB/s\u001b[0m eta \u001b[36m0:00:00\u001b[0m\n",
            "\u001b[?25h  Preparing metadata (setup.py) ... \u001b[?25l\u001b[?25hdone\n",
            "Requirement already satisfied: lxml>=2.3.2 in /usr/local/lib/python3.10/dist-packages (from python-docx) (4.9.2)\n",
            "Building wheels for collected packages: python-docx\n",
            "  Building wheel for python-docx (setup.py) ... \u001b[?25l\u001b[?25hdone\n",
            "  Created wheel for python-docx: filename=python_docx-0.8.11-py3-none-any.whl size=184491 sha256=bd3f08e386e35a438e8cfbe65e2ef826de1c21148426668b9e99e10998418053\n",
            "  Stored in directory: /root/.cache/pip/wheels/80/27/06/837436d4c3bd989b957a91679966f207bfd71d358d63a8194d\n",
            "Successfully built python-docx\n",
            "Installing collected packages: python-docx\n",
            "Successfully installed python-docx-0.8.11\n"
          ]
        }
      ],
      "source": [
        "pip install python-docx"
      ]
    },
    {
      "cell_type": "code",
      "source": [
        "from google.colab import files\n",
        "uploaded = files.upload()"
      ],
      "metadata": {
        "colab": {
          "base_uri": "https://localhost:8080/",
          "height": 215
        },
        "id": "n0kQSQqt3RKh",
        "outputId": "9f5081d9-3df7-4403-ce31-1c0fbe5e948b"
      },
      "execution_count": 2,
      "outputs": [
        {
          "output_type": "display_data",
          "data": {
            "text/plain": [
              "<IPython.core.display.HTML object>"
            ],
            "text/html": [
              "\n",
              "     <input type=\"file\" id=\"files-72743628-6f4a-4bcb-ab27-01bd448df3d7\" name=\"files[]\" multiple disabled\n",
              "        style=\"border:none\" />\n",
              "     <output id=\"result-72743628-6f4a-4bcb-ab27-01bd448df3d7\">\n",
              "      Upload widget is only available when the cell has been executed in the\n",
              "      current browser session. Please rerun this cell to enable.\n",
              "      </output>\n",
              "      <script>// Copyright 2017 Google LLC\n",
              "//\n",
              "// Licensed under the Apache License, Version 2.0 (the \"License\");\n",
              "// you may not use this file except in compliance with the License.\n",
              "// You may obtain a copy of the License at\n",
              "//\n",
              "//      http://www.apache.org/licenses/LICENSE-2.0\n",
              "//\n",
              "// Unless required by applicable law or agreed to in writing, software\n",
              "// distributed under the License is distributed on an \"AS IS\" BASIS,\n",
              "// WITHOUT WARRANTIES OR CONDITIONS OF ANY KIND, either express or implied.\n",
              "// See the License for the specific language governing permissions and\n",
              "// limitations under the License.\n",
              "\n",
              "/**\n",
              " * @fileoverview Helpers for google.colab Python module.\n",
              " */\n",
              "(function(scope) {\n",
              "function span(text, styleAttributes = {}) {\n",
              "  const element = document.createElement('span');\n",
              "  element.textContent = text;\n",
              "  for (const key of Object.keys(styleAttributes)) {\n",
              "    element.style[key] = styleAttributes[key];\n",
              "  }\n",
              "  return element;\n",
              "}\n",
              "\n",
              "// Max number of bytes which will be uploaded at a time.\n",
              "const MAX_PAYLOAD_SIZE = 100 * 1024;\n",
              "\n",
              "function _uploadFiles(inputId, outputId) {\n",
              "  const steps = uploadFilesStep(inputId, outputId);\n",
              "  const outputElement = document.getElementById(outputId);\n",
              "  // Cache steps on the outputElement to make it available for the next call\n",
              "  // to uploadFilesContinue from Python.\n",
              "  outputElement.steps = steps;\n",
              "\n",
              "  return _uploadFilesContinue(outputId);\n",
              "}\n",
              "\n",
              "// This is roughly an async generator (not supported in the browser yet),\n",
              "// where there are multiple asynchronous steps and the Python side is going\n",
              "// to poll for completion of each step.\n",
              "// This uses a Promise to block the python side on completion of each step,\n",
              "// then passes the result of the previous step as the input to the next step.\n",
              "function _uploadFilesContinue(outputId) {\n",
              "  const outputElement = document.getElementById(outputId);\n",
              "  const steps = outputElement.steps;\n",
              "\n",
              "  const next = steps.next(outputElement.lastPromiseValue);\n",
              "  return Promise.resolve(next.value.promise).then((value) => {\n",
              "    // Cache the last promise value to make it available to the next\n",
              "    // step of the generator.\n",
              "    outputElement.lastPromiseValue = value;\n",
              "    return next.value.response;\n",
              "  });\n",
              "}\n",
              "\n",
              "/**\n",
              " * Generator function which is called between each async step of the upload\n",
              " * process.\n",
              " * @param {string} inputId Element ID of the input file picker element.\n",
              " * @param {string} outputId Element ID of the output display.\n",
              " * @return {!Iterable<!Object>} Iterable of next steps.\n",
              " */\n",
              "function* uploadFilesStep(inputId, outputId) {\n",
              "  const inputElement = document.getElementById(inputId);\n",
              "  inputElement.disabled = false;\n",
              "\n",
              "  const outputElement = document.getElementById(outputId);\n",
              "  outputElement.innerHTML = '';\n",
              "\n",
              "  const pickedPromise = new Promise((resolve) => {\n",
              "    inputElement.addEventListener('change', (e) => {\n",
              "      resolve(e.target.files);\n",
              "    });\n",
              "  });\n",
              "\n",
              "  const cancel = document.createElement('button');\n",
              "  inputElement.parentElement.appendChild(cancel);\n",
              "  cancel.textContent = 'Cancel upload';\n",
              "  const cancelPromise = new Promise((resolve) => {\n",
              "    cancel.onclick = () => {\n",
              "      resolve(null);\n",
              "    };\n",
              "  });\n",
              "\n",
              "  // Wait for the user to pick the files.\n",
              "  const files = yield {\n",
              "    promise: Promise.race([pickedPromise, cancelPromise]),\n",
              "    response: {\n",
              "      action: 'starting',\n",
              "    }\n",
              "  };\n",
              "\n",
              "  cancel.remove();\n",
              "\n",
              "  // Disable the input element since further picks are not allowed.\n",
              "  inputElement.disabled = true;\n",
              "\n",
              "  if (!files) {\n",
              "    return {\n",
              "      response: {\n",
              "        action: 'complete',\n",
              "      }\n",
              "    };\n",
              "  }\n",
              "\n",
              "  for (const file of files) {\n",
              "    const li = document.createElement('li');\n",
              "    li.append(span(file.name, {fontWeight: 'bold'}));\n",
              "    li.append(span(\n",
              "        `(${file.type || 'n/a'}) - ${file.size} bytes, ` +\n",
              "        `last modified: ${\n",
              "            file.lastModifiedDate ? file.lastModifiedDate.toLocaleDateString() :\n",
              "                                    'n/a'} - `));\n",
              "    const percent = span('0% done');\n",
              "    li.appendChild(percent);\n",
              "\n",
              "    outputElement.appendChild(li);\n",
              "\n",
              "    const fileDataPromise = new Promise((resolve) => {\n",
              "      const reader = new FileReader();\n",
              "      reader.onload = (e) => {\n",
              "        resolve(e.target.result);\n",
              "      };\n",
              "      reader.readAsArrayBuffer(file);\n",
              "    });\n",
              "    // Wait for the data to be ready.\n",
              "    let fileData = yield {\n",
              "      promise: fileDataPromise,\n",
              "      response: {\n",
              "        action: 'continue',\n",
              "      }\n",
              "    };\n",
              "\n",
              "    // Use a chunked sending to avoid message size limits. See b/62115660.\n",
              "    let position = 0;\n",
              "    do {\n",
              "      const length = Math.min(fileData.byteLength - position, MAX_PAYLOAD_SIZE);\n",
              "      const chunk = new Uint8Array(fileData, position, length);\n",
              "      position += length;\n",
              "\n",
              "      const base64 = btoa(String.fromCharCode.apply(null, chunk));\n",
              "      yield {\n",
              "        response: {\n",
              "          action: 'append',\n",
              "          file: file.name,\n",
              "          data: base64,\n",
              "        },\n",
              "      };\n",
              "\n",
              "      let percentDone = fileData.byteLength === 0 ?\n",
              "          100 :\n",
              "          Math.round((position / fileData.byteLength) * 100);\n",
              "      percent.textContent = `${percentDone}% done`;\n",
              "\n",
              "    } while (position < fileData.byteLength);\n",
              "  }\n",
              "\n",
              "  // All done.\n",
              "  yield {\n",
              "    response: {\n",
              "      action: 'complete',\n",
              "    }\n",
              "  };\n",
              "}\n",
              "\n",
              "scope.google = scope.google || {};\n",
              "scope.google.colab = scope.google.colab || {};\n",
              "scope.google.colab._files = {\n",
              "  _uploadFiles,\n",
              "  _uploadFilesContinue,\n",
              "};\n",
              "})(self);\n",
              "</script> "
            ]
          },
          "metadata": {}
        },
        {
          "output_type": "stream",
          "name": "stdout",
          "text": [
            "Saving 000121390023047816_ea156322_424b2.htm to 000121390023047816_ea156322_424b2.htm\n",
            "Saving 000121390023048204_ea156370_424b2.htm to 000121390023048204_ea156370_424b2.htm\n",
            "Saving 000121390023048208_ea156383_424b2.htm to 000121390023048208_ea156383_424b2.htm\n",
            "Saving 000121390023048212_ea156384_424b2.htm to 000121390023048212_ea156384_424b2.htm\n",
            "Saving ea156385_424b2.htm to ea156385_424b2.htm\n"
          ]
        }
      ]
    },
    {
      "cell_type": "code",
      "source": [
        "import os\n",
        "data = []\n",
        "for filename in os.listdir('/content/'):\n",
        "    if filename.endswith(\"htm\"):\n",
        "        # Your code comes here such as\n",
        "        print(filename)\n",
        "        data.append(filename)\n"
      ],
      "metadata": {
        "colab": {
          "base_uri": "https://localhost:8080/"
        },
        "id": "UHAkj2LE3889",
        "outputId": "8ba1def6-4840-4568-d64b-90e88a4d1695"
      },
      "execution_count": 6,
      "outputs": [
        {
          "output_type": "stream",
          "name": "stdout",
          "text": [
            "000121390023048212_ea156384_424b2.htm\n",
            "000121390023047816_ea156322_424b2.htm\n",
            "ea156385_424b2.htm\n",
            "000121390023048208_ea156383_424b2.htm\n",
            "000121390023048204_ea156370_424b2.htm\n"
          ]
        }
      ]
    },
    {
      "cell_type": "code",
      "source": [
        "\n",
        "from docx import Document\n",
        "from bs4 import BeautifulSoup\n",
        "import chardet\n",
        "\n",
        "def html_to_docx(html_file, output_file):\n",
        "    # Read the HTML file and detect the encoding\n",
        "    with open(html_file, 'rb') as file:\n",
        "        raw_data = file.read()\n",
        "        result = chardet.detect(raw_data)\n",
        "        encoding = result['encoding']\n",
        "    # Create a new Word document\n",
        "    doc = Document()\n",
        "    # Convert the HTML to plain text using the detected encoding\n",
        "    html_content = raw_data.decode(encoding)\n",
        "    soup = BeautifulSoup(html_content, 'html.parser')\n",
        "    plain_text = soup.get_text()\n",
        "    # Add the plain text content to the Word document\n",
        "    doc.add_paragraph(plain_text)\n",
        "    # Save the Word document\n",
        "    doc.save(output_file)\n",
        "\n",
        "# Specify the HTML input file and Word output file paths\n",
        "#html_file = '1.html'\n",
        "#output_file = 'output.docx'\n",
        "\n",
        "# Convert HTML to Word\n",
        "for html_file in data:\n",
        "    print(html_file)\n",
        "    output_file=html_file.replace(\"htm\", \"docx\")\n",
        "    html_to_docx(html_file, output_file)\n",
        "    print(output_file)\n",
        "\n"
      ],
      "metadata": {
        "colab": {
          "base_uri": "https://localhost:8080/"
        },
        "id": "iu1EPeyq3swL",
        "outputId": "ef4427e4-2df9-4cda-cd08-6cb754c429eb"
      },
      "execution_count": 10,
      "outputs": [
        {
          "output_type": "stream",
          "name": "stdout",
          "text": [
            "000121390023048212_ea156384_424b2.htm\n",
            "000121390023048212_ea156384_424b2.docx\n",
            "000121390023047816_ea156322_424b2.htm\n",
            "000121390023047816_ea156322_424b2.docx\n",
            "ea156385_424b2.htm\n",
            "ea156385_424b2.docx\n",
            "000121390023048208_ea156383_424b2.htm\n",
            "000121390023048208_ea156383_424b2.docx\n",
            "000121390023048204_ea156370_424b2.htm\n",
            "000121390023048204_ea156370_424b2.docx\n"
          ]
        }
      ]
    },
    {
      "cell_type": "code",
      "source": [
        "from docx import Document\n",
        "output = []\n",
        "for filename in os.listdir('/content/'):\n",
        "    if filename.endswith(\"docx\"):\n",
        "        output.append(filename)\n",
        "\n",
        "def extract_text_from_docx(docx_file):\n",
        "    # Create a Document object from the Word file\n",
        "    doc = Document(docx_file)\n",
        "    # Extract text from paragraphs\n",
        "    text = []\n",
        "    for paragraph in doc.paragraphs:\n",
        "        text.append(paragraph.text)\n",
        "    # Join the extracted text into a single string\n",
        "    extracted_text = '\\n'.join(text)\n",
        "    return extracted_text\n",
        "\n",
        "# Usage example\n",
        "#docx_file = 'output.docx'\n",
        "#extracted_text = extract_text_from_docx(docx_file)\n",
        "#print(extracted_text)\n",
        "\n",
        "content=[]\n",
        "for file in output:\n",
        "    print(file)\n",
        "    extracted_text = extract_text_from_docx(file)\n",
        "    # Remove empty lines and convert to a single line with space-separated words\n",
        "    extracted_text = ' '.join(line.strip() for line in extracted_text.splitlines() if line.strip())\n",
        "    content.append(extracted_text)\n",
        "\n"
      ],
      "metadata": {
        "colab": {
          "base_uri": "https://localhost:8080/"
        },
        "id": "XKPzgGCw5fFL",
        "outputId": "47e229fd-65d6-48aa-a189-35eda2d5e799"
      },
      "execution_count": 11,
      "outputs": [
        {
          "output_type": "stream",
          "name": "stdout",
          "text": [
            "000121390023047816_ea156322_424b2.docx\n",
            "000121390023048208_ea156383_424b2.docx\n",
            "000121390023048212_ea156384_424b2.docx\n",
            "000121390023048204_ea156370_424b2.docx\n",
            "ea156385_424b2.docx\n"
          ]
        }
      ]
    },
    {
      "cell_type": "code",
      "source": [
        "print(content[0])"
      ],
      "metadata": {
        "colab": {
          "base_uri": "https://localhost:8080/"
        },
        "id": "g-e6KjPD6Uii",
        "outputId": "9257741d-635c-4d4e-de47-1ff31de67ccb"
      },
      "execution_count": 12,
      "outputs": [
        {
          "output_type": "stream",
          "name": "stdout",
          "text": [
            "424B2 1 ea156322_424b2.htm PRELIMINARY PRICING SUPPLEMENT The information in this preliminary pricing supplement is not complete and may be changed. This preliminary pricing supplement is not an offer to sell nor does it seek an offer to buy these securities in any jurisdiction where the offer or sale is not permitted. Subject to completion dated June 9, 2023 June     , 2023 Registration Statement Nos. 333-270004 and 333-270004-01; Rule 424(b)(2) JPMorgan Chase Financial Company LLC Structured Investments Uncapped Accelerated Barrier Notes Linked to the Lesser Performing of the S&P 500® Index and the Russell 2000® Index due June 26, 2028 Fully and Unconditionally Guaranteed by JPMorgan Chase & Co. ·The notes are designed for investors who seek an uncapped return of at least 1.65 times any appreciation of the lesser performing of the S&P 500® Index and the Russell 2000® Index, which we refer to as the Indices, at maturity. ·Investors should be willing to forgo interest and dividend payments and be willing to lose some or all of their principal amount at maturity. ·The notes are unsecured and unsubordinated obligations of JPMorgan Chase Financial Company LLC, which we refer to as JPMorgan Financial, the payment on which is fully and unconditionally guaranteed by JPMorgan Chase & Co. Any payment on the notes is subject to the credit risk of JPMorgan Financial, as issuer of the notes, and the credit risk of JPMorgan Chase & Co., as guarantor of the notes. ·Payments on the notes are not linked to a basket composed of the Indices. Payments on the notes are linked to the performance of each of the Indices individually, as described below. ·Minimum denominations of $1,000 and integral multiples thereof ·The notes are expected to price on or about June 21, 2023 and are expected to settle on or about June 26, 2023. ·CUSIP: 48133XRW8 Investing in the notes involves a number of risks. See “Risk Factors” beginning on page S-2 of the accompanying prospectus supplement, “Risk Factors” beginning on page PS-11 of the accompanying product supplement and “Selected Risk Considerations” beginning on page PS-3 of this pricing supplement. Neither the Securities and Exchange Commission (the “SEC”) nor any state securities commission has approved or disapproved of the notes or passed upon the accuracy or the adequacy of this pricing supplement or the accompanying product supplement, underlying supplement, prospectus supplement and prospectus. Any representation to the contrary is a criminal offense. Price to Public (1)(2) Fees and Commissions (2)(3) Proceeds to Issuer Per note $1,000 $ $ Total $ $ $ (1) See “Supplemental Use of Proceeds” in this pricing supplement for information about the components of the price to public of the notes. (2) With respect to notes sold to certain fee-based advisory accounts for which an affiliated or unaffiliated broker-dealer is an investment adviser, the price to the public will not be lower than $994.50 per $1,000 principal amount note. J.P. Morgan Securities LLC, which we refer to as JPMS, and these broker-dealers will forgo any selling commissions related to these sales. See “Plan of Distribution (Conflicts of Interest)” in the accompanying product supplement. (3) With respect to notes sold to brokerage accounts, JPMS, acting as agent for JPMorgan Financial, will pay all of the selling commissions it receives from us to other affiliated or unaffiliated dealers. In no event will these selling commissions exceed $5.50 per $1,000 principal amount note. See “Plan of Distribution (Conflicts of Interest)” in the accompanying product supplement. If the notes priced today, the estimated value of the notes would be approximately $978.10 per $1,000 principal amount note. The estimated value of the notes, when the terms of the notes are set, will be provided in the pricing supplement and will not be less than $950.00 per $1,000 principal amount note. See “The Estimated Value of the Notes” in this pricing supplement for additional information. The notes are not bank deposits, are not insured by the Federal Deposit Insurance Corporation or any other governmental agency and are not obligations of, or guaranteed by, a bank. Pricing supplement to product supplement no. 4-I dated April 13, 2023, underlying supplement no. 1-I dated April 13, 2023 and the prospectus and prospectus supplement, each dated April 13, 2023 Key Terms Issuer: JPMorgan Chase Financial Company LLC, an indirect, wholly owned finance subsidiary of JPMorgan Chase & Co. Guarantor: JPMorgan Chase & Co. Indices: The S&P 500® Index (Bloomberg ticker: SPX) and the Russell 2000® Index (Bloomberg ticker: RTY) Upside Leverage Factor: At least 1.65 (to be provided in the pricing supplement) Barrier Amount: With respect to each Index, 70.00% of its Initial Value Pricing Date: On or about June 21, 2023 Original Issue Date (Settlement Date): On or about June 26, 2023 Observation Date*: June 21, 2028 Maturity Date*: June 26, 2028 * Subject to postponement in the event of a market disruption event and as described under “General Terms of Notes — Postponement of a Determination Date — Notes Linked to Multiple Underlyings” and “General Terms of Notes — Postponement of a Payment Date” in the accompanying product supplement Payment at Maturity: If the Final Value of each Index is greater than its Initial Value, your payment at maturity per $1,000 principal amount note will be calculated as follows: $1,000 + ($1,000 × Lesser Performing Index Return × Upside Leverage Factor) If the Final Value of either Index is equal to or less than its Initial Value but the Final Value of each Index is greater than or equal to its Barrier Amount, you will receive the principal amount of your notes at maturity. If the Final Value of either Index is less than its Barrier Amount, your payment at maturity per $1,000 principal amount note will be calculated as follows: $1,000 + ($1,000 × Lesser Performing Index Return) If the Final Value of either Index is less than its Barrier Amount, you will lose more than 30.00% of your principal amount at maturity and could lose all of your principal amount at maturity. Lesser Performing Index: The Index with the Lesser Performing Index Return Lesser Performing Index Return: The lower of the Index Returns of the Indices Index Return: With respect to each Index, (Final Value – Initial Value) Initial Value Initial Value: With respect to each Index, the closing level of that Index on the Pricing Date Final Value: With respect to each Index, the closing level of that Index on the Observation Date PS-1 | Structured Investments Uncapped Accelerated Barrier Notes Linked to the Lesser Performing of the S&P 500® Index and the Russell 2000® Index Hypothetical Payout Profile The following table and graph illustrate the hypothetical total return and payment at maturity on the notes linked to two hypothetical Indices. The “total return” as used in this pricing supplement is the number, expressed as a percentage, that results from comparing the payment at maturity per $1,000 principal amount note to $1,000. The hypothetical total returns and payments set forth below assume the following: ·the notes were sold only to brokerage accounts; ·an Initial Value for the Lesser Performing Index of 100.00; ·an Upside Leverage Factor of 1.65; and ·a Barrier Amount for the Lesser Performing Index of 70.00 (equal to 70.00% of its hypothetical Initial Value). The hypothetical Initial Value of the Lesser Performing Index of 100.00 has been chosen for illustrative purposes only and may not represent a likely actual Initial Value of either Index. The actual Initial Value of each Index will be the closing level of that Index on the Pricing Date and will be provided in the pricing supplement. For historical data regarding the actual closing levels of each Index, please see the historical information set forth under “The Indices” in this pricing supplement. Each hypothetical total return or hypothetical payment at maturity set forth below is for illustrative purposes only and may not be the actual total return or payment at maturity applicable to a purchaser of the notes. The numbers appearing in the following table and graph have been rounded for ease of analysis. Final Value of the Lesser Performing Index Lesser Performing Index Return Total Return on the Notes Payment at Maturity 165.00 65.00% 107.25% $2,072.50 150.00 50.00% 82.50% $1,825.00 140.00 40.00% 66.00% $1,660.00 130.00 30.00% 49.50% $1,495.00 120.00 20.00% 33.00% $1,330.00 110.00 10.00% 16.50% $1,165.00 105.00 5.00% 8.25% $1,082.50 101.00 1.00% 1.65% $1,016.50 100.00 0.00% 0.00% $1,000.00 95.00 -5.00% 0.00% $1,000.00 90.00 -10.00% 0.00% $1,000.00 80.00 -20.00% 0.00% $1,000.00 70.00 -30.00% 0.00% $1,000.00 69.99 -30.01% -30.01% $699.90 60.00 -40.00% -40.00% $600.00 50.00 -50.00% -50.00% $500.00 40.00 -60.00% -60.00% $400.00 30.00 -70.00% -70.00% $300.00 20.00 -80.00% -80.00% $200.00 10.00 -90.00% -90.00% $100.00 0.00 -100.00% -100.00% $0.00 PS-2 | Structured Investments Uncapped Accelerated Barrier Notes Linked to the Lesser Performing of the S&P 500® Index and the Russell 2000® Index The following graph demonstrates the hypothetical payments at maturity on the notes for a sub-set of Lesser Performing Index Returns detailed in the table above (-80% to 50%). There can be no assurance that the performance of the Lesser Performing Index will result in the return of any of your principal amount. How the Notes Work Upside Scenario: If the Final Value of each Index is greater than its Initial Value, investors will receive at maturity the $1,000 principal amount plus a return equal to the Lesser Performing Index Return times the Upside Leverage Factor of at least 1.65. ·Assuming a hypothetical Upside Leverage Factor of 1.65, if the closing level of the Lesser Performing Index increases 10.00%, investors will receive at maturity a 16.50% return, or $1,165.00 per $1,000 principal amount note. Par Scenario: If the Final Value of either Index is equal to or less than its Initial Value but the Final Value of each Index is greater than or equal to its Barrier Amount of 70.00% of its Initial Value, investors will receive at maturity the principal amount of their notes. Downside Scenario: If the Final Value of either Index is less than its Barrier Amount of 70.00% of its Initial Value, investors will lose 1% of the principal amount of their notes for every 1% that the Final Value of the Lesser Performing Index is less than its Initial Value. ·For example, if the closing level of the Lesser Performing Index declines 60.00%, investors will lose 60.00% of their principal amount and receive only $400.00 per $1,000 principal amount note at maturity. The hypothetical returns and hypothetical payments on the notes shown above apply only if you hold the notes for their entire term. These hypotheticals do not reflect the fees or expenses that would be associated with any sale in the secondary market. If these fees and expenses were included, the hypothetical returns and hypothetical payments shown above would likely be lower. Selected Risk Considerations An investment in the notes involves significant risks. These risks are explained in more detail in the “Risk Factors” sections of the accompanying prospectus supplement and product supplement. Risks Relating to the Notes Generally ·YOUR INVESTMENT IN THE NOTES MAY RESULT IN A LOSS — The notes do not guarantee any return of principal. If the Final Value of either Index is less than its Barrier Amount, you will lose 1% of the principal amount of your notes for every 1% that the Final Value of the Lesser Performing Index is less than its Initial Value. Accordingly, under these circumstances, you will lose more than 30.00% of your principal amount at maturity and could lose all of your principal amount at maturity. PS-3 | Structured Investments Uncapped Accelerated Barrier Notes Linked to the Lesser Performing of the S&P 500® Index and the Russell 2000® Index ·CREDIT RISKS OF JPMORGAN FINANCIAL AND JPMORGAN CHASE & CO. — Investors are dependent on our and JPMorgan Chase & Co.’s ability to pay all amounts due on the notes. Any actual or potential change in our or JPMorgan Chase & Co.’s creditworthiness or credit spreads, as determined by the market for taking that credit risk, is likely to adversely affect the value of the notes. If we and JPMorgan Chase & Co. were to default on our payment obligations, you may not receive any amounts owed to you under the notes and you could lose your entire investment. ·AS A FINANCE SUBSIDIARY, JPMORGAN FINANCIAL HAS NO INDEPENDENT OPERATIONS AND HAS LIMITED ASSETS — As a finance subsidiary of JPMorgan Chase & Co., we have no independent operations beyond the issuance and administration of our securities. Aside from the initial capital contribution from JPMorgan Chase & Co., substantially all of our assets relate to obligations of our affiliates to make payments under loans made by us or other intercompany agreements. As a result, we are dependent upon payments from our affiliates to meet our obligations under the notes. If these affiliates do not make payments to us and we fail to make payments on the notes, you may have to seek payment under the related guarantee by JPMorgan Chase & Co., and that guarantee will rank pari passu with all other unsecured and unsubordinated obligations of JPMorgan Chase & Co. ·YOU ARE EXPOSED TO THE RISK OF DECLINE IN THE LEVEL OF EACH INDEX — Payments on the notes are not linked to a basket composed of the Indices and are contingent upon the performance of each individual Index. Poor performance by either of the Indices over the term of the notes may negatively affect your payment at maturity and will not be offset or mitigated by positive performance by the other Index. ·YOUR PAYMENT AT MATURITY WILL BE DETERMINED BY THE LESSER PERFORMING INDEX. ·THE BENEFIT PROVIDED BY THE BARRIER AMOUNT MAY TERMINATE ON THE OBSERVATION DATE — If the Final Value of either Index is less than its Barrier Amount, the benefit provided by the Barrier Amount will terminate and you will be fully exposed to any depreciation of the Lesser Performing Index. ·THE NOTES DO NOT PAY INTEREST. ·YOU WILL NOT RECEIVE DIVIDENDS ON THE SECURITIES INCLUDED IN EITHER INDEX OR HAVE ANY RIGHTS WITH RESPECT TO THOSE SECURITIES. ·THE RISK OF THE CLOSING LEVEL OF AN INDEX FALLING BELOW ITS BARRIER AMOUNT IS GREATER IF THE LEVEL OF THAT INDEX IS VOLATILE. ·LACK OF LIQUIDITY — The notes will not be listed on any securities exchange. Accordingly, the price at which you may be able to trade your notes is likely to depend on the price, if any, at which JPMS is willing to buy the notes. You may not be able to sell your notes. The notes are not designed to be short-term trading instruments. Accordingly, you should be able and willing to hold your notes to maturity. ·THE FINAL TERMS AND VALUATION OF THE NOTES WILL BE PROVIDED IN THE PRICING SUPPLEMENT — You should consider your potential investment in the notes based on the minimums for the estimated value of the notes and the Upside Leverage Factor. Risks Relating to Conflicts of Interest ·POTENTIAL CONFLICTS — We and our affiliates play a variety of roles in connection with the notes. In performing these duties, our and JPMorgan Chase & Co.’s economic interests are potentially adverse to your interests as an investor in the notes. It is possible that hedging or trading activities of ours or our affiliates in connection with the notes could result in substantial returns for us or our affiliates while the value of the notes declines. Please refer to “Risk Factors — Risks Relating to Conflicts of Interest” in the accompanying product supplement. Risks Relating to the Estimated Value and Secondary Market Prices of the Notes ·THE ESTIMATED VALUE OF THE NOTES WILL BE LOWER THAN THE ORIGINAL ISSUE PRICE (PRICE TO PUBLIC) OF THE NOTES — The estimated value of the notes is only an estimate determined by reference to several factors. The original issue price of the notes will exceed the estimated value of the notes because costs associated with selling, structuring and hedging the notes are included in the original issue price of the notes. These costs include the selling commissions, if any, the projected profits, if any, PS-4 | Structured Investments Uncapped Accelerated Barrier Notes Linked to the Lesser Performing of the S&P 500® Index and the Russell 2000® Index that our affiliates expect to realize for assuming risks inherent in hedging our obligations under the notes and the estimated cost of hedging our obligations under the notes. See “The Estimated Value of the Notes” in this pricing supplement. ·THE ESTIMATED VALUE OF THE NOTES DOES NOT REPRESENT FUTURE VALUES OF THE NOTES AND MAY DIFFER FROM OTHERS’ ESTIMATES — See “The Estimated Value of the Notes” in this pricing supplement. ·THE ESTIMATED VALUE OF THE NOTES IS DERIVED BY REFERENCE TO AN INTERNAL FUNDING RATE — The internal funding rate used in the determination of the estimated value of the notes may differ from the market-implied funding rate for vanilla fixed income instruments of a similar maturity issued by JPMorgan Chase & Co. or its affiliates. Any difference may be based on, among other things, our and our affiliates’ view of the funding value of the notes as well as the higher issuance, operational and ongoing liability management costs of the notes in comparison to those costs for the conventional fixed income instruments of JPMorgan Chase & Co. This internal funding rate is based on certain market inputs and assumptions, which may prove to be incorrect, and is intended to approximate the prevailing market replacement funding rate for the notes. The use of an internal funding rate and any potential changes to that rate may have an adverse effect on the terms of the notes and any secondary market prices of the notes. See “The Estimated Value of the Notes” in this pricing supplement. ·THE VALUE OF THE NOTES AS PUBLISHED BY JPMS (AND WHICH MAY BE REFLECTED ON CUSTOMER ACCOUNT STATEMENTS) MAY BE HIGHER THAN THE THEN-CURRENT ESTIMATED VALUE OF THE NOTES FOR A LIMITED TIME PERIOD — We generally expect that some of the costs included in the original issue price of the notes will be partially paid back to you in connection with any repurchases of your notes by JPMS in an amount that will decline to zero over an initial predetermined period. See “Secondary Market Prices of the Notes” in this pricing supplement for additional information relating to this initial period. Accordingly, the estimated value of your notes during this initial period may be lower than the value of the notes as published by JPMS (and which may be shown on your customer account statements). ·SECONDARY MARKET PRICES OF THE NOTES WILL LIKELY BE LOWER THAN THE ORIGINAL ISSUE PRICE OF THE NOTES — Any secondary market prices of the notes will likely be lower than the original issue price of the notes because, among other things, secondary market prices take into account our internal secondary market funding rates for structured debt issuances and, also, because secondary market prices may exclude selling commissions, if any, projected hedging profits, if any, and estimated hedging costs that are included in the original issue price of the notes. As a result, the price, if any, at which JPMS will be willing to buy the notes from you in secondary market transactions, if at all, is likely to be lower than the original issue price. Any sale by you prior to the Maturity Date could result in a substantial loss to you. ·SECONDARY MARKET PRICES OF THE NOTES WILL BE IMPACTED BY MANY ECONOMIC AND MARKET FACTORS — The secondary market price of the notes during their term will be impacted by a number of economic and market factors, which may either offset or magnify each other, aside from the selling commissions, if any, projected hedging profits, if any, estimated hedging costs and the levels of the Indices. Additionally, independent pricing vendors and/or third party broker-dealers may publish a price for the notes, which may also be reflected on customer account statements. This price may be different (higher or lower) than the price of the notes, if any, at which JPMS may be willing to purchase your notes in the secondary market. See “Risk Factors — Risks Relating to the Estimated Value and Secondary Market Prices of the Notes — Secondary market prices of the notes will be impacted by many economic and market factors” in the accompanying product supplement. Risks Relating to the Indices ·JPMORGAN CHASE & CO. IS CURRENTLY ONE OF THE COMPANIES THAT MAKE UP THE S&P 500® INDEX, but JPMorgan Chase & Co. will not have any obligation to consider your interests in taking any corporate action that might affect the level of the S&P 500® Index. ·AN INVESTMENT IN THE NOTES IS SUBJECT TO RISKS ASSOCIATED WITH SMALL CAPITALIZATION STOCKS WITH RESPECT TO THE RUSSELL 2000® INDEX — Small capitalization companies may be less able to withstand adverse economic, market, trade and competitive conditions relative to larger companies. Small capitalization companies are less likely to pay dividends on their stocks, and the presence of a dividend payment could be a factor that limits downward stock price pressure under adverse market conditions. PS-5 | Structured Investments Uncapped Accelerated Barrier Notes Linked to the Lesser Performing of the S&P 500® Index and the Russell 2000® Index The Indices The S&P 500® Index consists of stocks of 500 companies selected to provide a performance benchmark for the U.S. equity markets. For additional information about the S&P 500® Index, see “Equity Index Descriptions — The S&P U.S. Indices” in the accompanying underlying supplement. The Russell 2000® Index consists of the middle 2,000 companies included in the Russell 3000E™ Index and, as a result of the index calculation methodology, consists of the smallest 2,000 companies included in the Russell 3000® Index. The Russell 2000® Index is designed to track the performance of the small capitalization segment of the U.S. equity market. For additional information about the Russell 2000® Index, see “Equity Index Descriptions — The Russell Indices” in the accompanying underlying supplement. Historical Information The following graphs set forth the historical performance of each Index based on the weekly historical closing levels from January 5, 2018 through June 2, 2023. The closing level of the S&P 500® Index on June 7, 2023 was 4,267.52. The closing level of the Russell 2000® Index on June 7, 2023 was 1,888.447. We obtained the closing levels above and below from the Bloomberg Professional® service (“Bloomberg”), without independent verification. The historical closing levels of each Index should not be taken as an indication of future performance, and no assurance can be given as to the closing level of either Index on the Pricing Date or the Observation Date. There can be no assurance that the performance of the Indices will result in the return of any of your principal amount. PS-6 | Structured Investments Uncapped Accelerated Barrier Notes Linked to the Lesser Performing of the S&P 500® Index and the Russell 2000® Index Tax Treatment You should review carefully the section entitled “Material U.S. Federal Income Tax Consequences” in the accompanying product supplement no. 4-I. The following discussion, when read in combination with that section, constitutes the full opinion of our special tax counsel, Davis Polk & Wardwell LLP, regarding the material U.S. federal income tax consequences of owning and disposing of notes. Based on current market conditions, in the opinion of our special tax counsel it is reasonable to treat the notes as “open transactions” that are not debt instruments for U.S. federal income tax purposes, as more fully described in “Material U.S. Federal Income Tax Consequences — Tax Consequences to U.S. Holders — Notes Treated as Open Transactions That Are Not Debt Instruments” in the accompanying product supplement. Assuming this treatment is respected, the gain or loss on your notes should be treated as long-term capital gain or loss if you hold your notes for more than a year, whether or not you are an initial purchaser of notes at the issue price. However, the IRS or a court may not respect this treatment, in which case the timing and character of any income or loss on the notes could be materially and adversely affected. In addition, in 2007 Treasury and the IRS released a notice requesting comments on the U.S. federal income tax treatment of “prepaid forward contracts” and similar instruments. The notice focuses in particular on whether to require investors in these instruments to accrue income over the term of their investment. It also asks for comments on a number of related topics, including the character of income or loss with respect to these instruments; the relevance of factors such as the nature of the underlying property to which the instruments are linked; the degree, if any, to which income (including any mandated accruals) realized by non-U.S. investors should be subject to withholding tax; and whether these instruments are or should be subject to the “constructive ownership” regime, which very generally can operate to recharacterize certain long-term capital gain as ordinary income and impose a notional interest charge. While the notice requests comments on appropriate transition rules and effective dates, any Treasury regulations or other guidance promulgated after consideration of these issues could materially and adversely affect the tax consequences of an investment in the notes, possibly with retroactive effect. You should consult your tax adviser regarding the U.S. federal income tax consequences of an investment in the notes, including possible alternative treatments and the issues presented by this notice. Section 871(m) of the Code and Treasury regulations promulgated thereunder (“Section 871(m)”) generally impose a 30% withholding tax (unless an income tax treaty applies) on dividend equivalents paid or deemed paid to Non-U.S. Holders with respect to certain financial instruments linked to U.S. equities or indices that include U.S. equities. Section 871(m) provides certain exceptions to this withholding regime, including for instruments linked to certain broad-based indices that meet requirements set forth in the applicable Treasury regulations. Additionally, a recent IRS notice excludes from the scope of Section 871(m) instruments issued prior to January 1, 2025 that do not have a delta of one with respect to underlying securities that could pay U.S.-source dividends for U.S. federal income tax purposes (each an “Underlying Security”). Based on certain determinations made by us, we expect that Section 871(m) will not apply to the notes with regard to Non-U.S. Holders. Our determination is not binding on the IRS, and the IRS may disagree with this determination. Section 871(m) is complex and its application may depend on your particular circumstances, including whether you enter into other transactions with respect to an Underlying Security. If necessary, further information regarding the potential application of Section 871(m) will be provided in the pricing supplement for the notes. You should consult your tax adviser regarding the potential application of Section 871(m) to the notes. The Estimated Value of the Notes The estimated value of the notes set forth on the cover of this pricing supplement is equal to the sum of the values of the following hypothetical components: (1) a fixed-income debt component with the same maturity as the notes, valued using the internal funding rate described below, and (2) the derivative or derivatives underlying the economic terms of the notes. The estimated value of the notes does not represent a minimum price at which JPMS would be willing to buy your notes in any secondary market (if any exists) at any time. The internal funding rate used in the determination of the estimated value of the notes may differ from the market-implied funding rate for vanilla fixed income instruments of a similar maturity issued by JPMorgan Chase & Co. or its affiliates. Any difference may be based on, among other things, our and our affiliates’ view of the funding value of the notes as well as the higher issuance, operational and ongoing liability management costs of the notes in comparison to those costs for the conventional fixed income instruments of JPMorgan Chase & Co. This internal funding rate is based on certain market inputs and assumptions, which may prove to be incorrect, and is intended to approximate the prevailing market replacement funding rate for the notes. The use of an internal funding rate and any potential changes to that rate may have an adverse effect on the terms of the notes and any secondary market prices of the notes. For additional information, see “Selected Risk Considerations — Risks Relating to the Estimated Value and Secondary Market Prices of the Notes — The Estimated Value of the Notes Is Derived by Reference to an Internal Funding Rate” in this pricing supplement. The value of the derivative or derivatives underlying the economic terms of the notes is derived from internal pricing models of our affiliates. These models are dependent on inputs such as the traded market prices of comparable derivative instruments and on various other inputs, some of which are market-observable, and which can include volatility, dividend rates, interest rates and other factors, as well as assumptions about future market events and/or environments. Accordingly, the estimated value of the notes is PS-7 | Structured Investments Uncapped Accelerated Barrier Notes Linked to the Lesser Performing of the S&P 500® Index and the Russell 2000® Index determined when the terms of the notes are set based on market conditions and other relevant factors and assumptions existing at that time. The estimated value of the notes does not represent future values of the notes and may differ from others’ estimates. Different pricing models and assumptions could provide valuations for the notes that are greater than or less than the estimated value of the notes. In addition, market conditions and other relevant factors in the future may change, and any assumptions may prove to be incorrect. On future dates, the value of the notes could change significantly based on, among other things, changes in market conditions, our or JPMorgan Chase & Co.’s creditworthiness, interest rate movements and other relevant factors, which may impact the price, if any, at which JPMS would be willing to buy notes from you in secondary market transactions. The estimated value of the notes will be lower than the original issue price of the notes because costs associated with selling, structuring and hedging the notes are included in the original issue price of the notes. These costs include the selling commissions, if any, paid to JPMS and other affiliated or unaffiliated dealers, the projected profits, if any, that our affiliates expect to realize for assuming risks inherent in hedging our obligations under the notes and the estimated cost of hedging our obligations under the notes. Because hedging our obligations entails risk and may be influenced by market forces beyond our control, this hedging may result in a profit that is more or less than expected, or it may result in a loss. A portion of the profits, if any, realized in hedging our obligations under the notes sold to brokerage accounts may be allowed to other affiliated or unaffiliated dealers, and we or one or more of our affiliates will retain any remaining hedging profits. See “Selected Risk Considerations — Risks Relating to the Estimated Value and Secondary Market Prices of the Notes — The Estimated Value of the Notes Will Be Lower Than the Original Issue Price (Price to Public) of the Notes” in this pricing supplement. Secondary Market Prices of the Notes For information about factors that will impact any secondary market prices of the notes, see “Risk Factors — Risks Relating to the Estimated Value and Secondary Market Prices of the Notes — Secondary market prices of the notes will be impacted by many economic and market factors” in the accompanying product supplement. In addition, we generally expect that some of the costs included in the original issue price of the notes will be partially paid back to you in connection with any repurchases of your notes by JPMS in an amount that will decline to zero over an initial predetermined period. These costs can include selling commissions, if any, projected hedging profits, if any, and, in some circumstances, estimated hedging costs and our internal secondary market funding rates for structured debt issuances. This initial predetermined time period is intended to be the shorter of six months and one-half of the stated term of the notes. The length of any such initial period reflects the structure of the notes, whether our affiliates expect to earn a profit in connection with our hedging activities, the estimated costs of hedging the notes and when these costs are incurred, as determined by our affiliates. See “Selected Risk Considerations — Risks Relating to the Estimated Value and Secondary Market Prices of the Notes — The Value of the Notes as Published by JPMS (and Which May Be Reflected on Customer Account Statements) May Be Higher Than the Then-Current Estimated Value of the Notes for a Limited Time Period” in this pricing supplement. Supplemental Use of Proceeds The notes are offered to meet investor demand for products that reflect the risk-return profile and market exposure provided by the notes. See “Hypothetical Payout Profile” and “How the Notes Work” in this pricing supplement for an illustration of the risk-return profile of the notes and “The Indices” in this pricing supplement for a description of the market exposure provided by the notes. The original issue price of the notes is equal to the estimated value of the notes plus the selling commissions, if any, paid to JPMS and other affiliated or unaffiliated dealers, plus (minus) the projected profits (losses) that our affiliates expect to realize for assuming risks inherent in hedging our obligations under the notes, plus the estimated cost of hedging our obligations under the notes. Supplemental Plan of Distribution With respect to notes sold to certain fee-based advisory accounts for which an affiliated or unaffiliated broker-dealer is an investment adviser, the price to the public will not be lower than $994.50 per $1,000 principal amount note. JPMS and these broker-dealers will forgo any selling commissions related to these sales. See “Plan of Distribution (Conflicts of Interest)” in the accompanying product supplement. With respect to notes sold to brokerage accounts, JPMS, acting as agent for JPMorgan Financial, will pay all of the selling commissions it receives from us to other affiliated or unaffiliated dealers. In no event will these selling commissions exceed $5.50 per $1,000 principal amount note. See “Plan of Distribution (Conflicts of Interest)” in the accompanying product supplement. Additional Terms Specific to the Notes You may revoke your offer to purchase the notes at any time prior to the time at which we accept such offer by notifying the applicable agent. We reserve the right to change the terms of, or reject any offer to purchase, the notes prior to their issuance. In the event of any PS-8 | Structured Investments Uncapped Accelerated Barrier Notes Linked to the Lesser Performing of the S&P 500® Index and the Russell 2000® Index changes to the terms of the notes, we will notify you and you will be asked to accept such changes in connection with your purchase. You may also choose to reject such changes, in which case we may reject your offer to purchase. You should read this pricing supplement together with the accompanying prospectus, as supplemented by the accompanying prospectus supplement relating to our Series A medium-term notes of which these notes are a part, and the more detailed information contained in the accompanying product supplement and the accompanying underlying supplement. This pricing supplement, together with the documents listed below, contains the terms of the notes and supersedes all other prior or contemporaneous oral statements as well as any other written materials including preliminary or indicative pricing terms, correspondence, trade ideas, structures for implementation, sample structures, fact sheets, brochures or other educational materials of ours. You should carefully consider, among other things, the matters set forth in the “Risk Factors” sections of the accompanying prospectus supplement and the accompanying product supplement, as the notes involve risks not associated with conventional debt securities. We urge you to consult your investment, legal, tax, accounting and other advisers before you invest in the notes. You may access these documents on the SEC website at www.sec.gov as follows (or if such address has changed, by reviewing our filings for the relevant date on the SEC website): ·Product supplement no. 4-I dated April 13, 2023: http://www.sec.gov/Archives/edgar/data/19617/000121390023029539/ea152803_424b2.pdf ·Underlying supplement no. 1-I dated April 13, 2023: http://www.sec.gov/Archives/edgar/data/19617/000121390023029543/ea151873_424b2.pdf ·Prospectus supplement and prospectus, each dated April 13, 2023: http://www.sec.gov/Archives/edgar/data/19617/000095010323005751/crt_dp192097-424b2.pdf Our Central Index Key, or CIK, on the SEC website is 1665650, and JPMorgan Chase & Co.’s CIK is 19617. As used in this pricing supplement, “we,” “us” and “our” refer to JPMorgan Financial. PS-9 | Structured Investments Uncapped Accelerated Barrier Notes Linked to the Lesser Performing of the S&P 500® Index and the Russell 2000® Index\n"
          ]
        }
      ]
    },
    {
      "cell_type": "code",
      "source": [
        "string_list = [str(element) for element in content]\n",
        "\n",
        "# Print the resulting list of strings\n",
        "print(string_list[0])"
      ],
      "metadata": {
        "colab": {
          "base_uri": "https://localhost:8080/"
        },
        "id": "K7zjqp6E6mxb",
        "outputId": "e534f07d-3c82-4b2f-c900-5ad3ed2cccd3"
      },
      "execution_count": 19,
      "outputs": [
        {
          "output_type": "stream",
          "name": "stdout",
          "text": [
            "424B2 1 ea156322_424b2.htm PRELIMINARY PRICING SUPPLEMENT The information in this preliminary pricing supplement is not complete and may be changed. This preliminary pricing supplement is not an offer to sell nor does it seek an offer to buy these securities in any jurisdiction where the offer or sale is not permitted. Subject to completion dated June 9, 2023 June     , 2023 Registration Statement Nos. 333-270004 and 333-270004-01; Rule 424(b)(2) JPMorgan Chase Financial Company LLC Structured Investments Uncapped Accelerated Barrier Notes Linked to the Lesser Performing of the S&P 500® Index and the Russell 2000® Index due June 26, 2028 Fully and Unconditionally Guaranteed by JPMorgan Chase & Co. ·The notes are designed for investors who seek an uncapped return of at least 1.65 times any appreciation of the lesser performing of the S&P 500® Index and the Russell 2000® Index, which we refer to as the Indices, at maturity. ·Investors should be willing to forgo interest and dividend payments and be willing to lose some or all of their principal amount at maturity. ·The notes are unsecured and unsubordinated obligations of JPMorgan Chase Financial Company LLC, which we refer to as JPMorgan Financial, the payment on which is fully and unconditionally guaranteed by JPMorgan Chase & Co. Any payment on the notes is subject to the credit risk of JPMorgan Financial, as issuer of the notes, and the credit risk of JPMorgan Chase & Co., as guarantor of the notes. ·Payments on the notes are not linked to a basket composed of the Indices. Payments on the notes are linked to the performance of each of the Indices individually, as described below. ·Minimum denominations of $1,000 and integral multiples thereof ·The notes are expected to price on or about June 21, 2023 and are expected to settle on or about June 26, 2023. ·CUSIP: 48133XRW8 Investing in the notes involves a number of risks. See “Risk Factors” beginning on page S-2 of the accompanying prospectus supplement, “Risk Factors” beginning on page PS-11 of the accompanying product supplement and “Selected Risk Considerations” beginning on page PS-3 of this pricing supplement. Neither the Securities and Exchange Commission (the “SEC”) nor any state securities commission has approved or disapproved of the notes or passed upon the accuracy or the adequacy of this pricing supplement or the accompanying product supplement, underlying supplement, prospectus supplement and prospectus. Any representation to the contrary is a criminal offense. Price to Public (1)(2) Fees and Commissions (2)(3) Proceeds to Issuer Per note $1,000 $ $ Total $ $ $ (1) See “Supplemental Use of Proceeds” in this pricing supplement for information about the components of the price to public of the notes. (2) With respect to notes sold to certain fee-based advisory accounts for which an affiliated or unaffiliated broker-dealer is an investment adviser, the price to the public will not be lower than $994.50 per $1,000 principal amount note. J.P. Morgan Securities LLC, which we refer to as JPMS, and these broker-dealers will forgo any selling commissions related to these sales. See “Plan of Distribution (Conflicts of Interest)” in the accompanying product supplement. (3) With respect to notes sold to brokerage accounts, JPMS, acting as agent for JPMorgan Financial, will pay all of the selling commissions it receives from us to other affiliated or unaffiliated dealers. In no event will these selling commissions exceed $5.50 per $1,000 principal amount note. See “Plan of Distribution (Conflicts of Interest)” in the accompanying product supplement. If the notes priced today, the estimated value of the notes would be approximately $978.10 per $1,000 principal amount note. The estimated value of the notes, when the terms of the notes are set, will be provided in the pricing supplement and will not be less than $950.00 per $1,000 principal amount note. See “The Estimated Value of the Notes” in this pricing supplement for additional information. The notes are not bank deposits, are not insured by the Federal Deposit Insurance Corporation or any other governmental agency and are not obligations of, or guaranteed by, a bank. Pricing supplement to product supplement no. 4-I dated April 13, 2023, underlying supplement no. 1-I dated April 13, 2023 and the prospectus and prospectus supplement, each dated April 13, 2023 Key Terms Issuer: JPMorgan Chase Financial Company LLC, an indirect, wholly owned finance subsidiary of JPMorgan Chase & Co. Guarantor: JPMorgan Chase & Co. Indices: The S&P 500® Index (Bloomberg ticker: SPX) and the Russell 2000® Index (Bloomberg ticker: RTY) Upside Leverage Factor: At least 1.65 (to be provided in the pricing supplement) Barrier Amount: With respect to each Index, 70.00% of its Initial Value Pricing Date: On or about June 21, 2023 Original Issue Date (Settlement Date): On or about June 26, 2023 Observation Date*: June 21, 2028 Maturity Date*: June 26, 2028 * Subject to postponement in the event of a market disruption event and as described under “General Terms of Notes — Postponement of a Determination Date — Notes Linked to Multiple Underlyings” and “General Terms of Notes — Postponement of a Payment Date” in the accompanying product supplement Payment at Maturity: If the Final Value of each Index is greater than its Initial Value, your payment at maturity per $1,000 principal amount note will be calculated as follows: $1,000 + ($1,000 × Lesser Performing Index Return × Upside Leverage Factor) If the Final Value of either Index is equal to or less than its Initial Value but the Final Value of each Index is greater than or equal to its Barrier Amount, you will receive the principal amount of your notes at maturity. If the Final Value of either Index is less than its Barrier Amount, your payment at maturity per $1,000 principal amount note will be calculated as follows: $1,000 + ($1,000 × Lesser Performing Index Return) If the Final Value of either Index is less than its Barrier Amount, you will lose more than 30.00% of your principal amount at maturity and could lose all of your principal amount at maturity. Lesser Performing Index: The Index with the Lesser Performing Index Return Lesser Performing Index Return: The lower of the Index Returns of the Indices Index Return: With respect to each Index, (Final Value – Initial Value) Initial Value Initial Value: With respect to each Index, the closing level of that Index on the Pricing Date Final Value: With respect to each Index, the closing level of that Index on the Observation Date PS-1 | Structured Investments Uncapped Accelerated Barrier Notes Linked to the Lesser Performing of the S&P 500® Index and the Russell 2000® Index Hypothetical Payout Profile The following table and graph illustrate the hypothetical total return and payment at maturity on the notes linked to two hypothetical Indices. The “total return” as used in this pricing supplement is the number, expressed as a percentage, that results from comparing the payment at maturity per $1,000 principal amount note to $1,000. The hypothetical total returns and payments set forth below assume the following: ·the notes were sold only to brokerage accounts; ·an Initial Value for the Lesser Performing Index of 100.00; ·an Upside Leverage Factor of 1.65; and ·a Barrier Amount for the Lesser Performing Index of 70.00 (equal to 70.00% of its hypothetical Initial Value). The hypothetical Initial Value of the Lesser Performing Index of 100.00 has been chosen for illustrative purposes only and may not represent a likely actual Initial Value of either Index. The actual Initial Value of each Index will be the closing level of that Index on the Pricing Date and will be provided in the pricing supplement. For historical data regarding the actual closing levels of each Index, please see the historical information set forth under “The Indices” in this pricing supplement. Each hypothetical total return or hypothetical payment at maturity set forth below is for illustrative purposes only and may not be the actual total return or payment at maturity applicable to a purchaser of the notes. The numbers appearing in the following table and graph have been rounded for ease of analysis. Final Value of the Lesser Performing Index Lesser Performing Index Return Total Return on the Notes Payment at Maturity 165.00 65.00% 107.25% $2,072.50 150.00 50.00% 82.50% $1,825.00 140.00 40.00% 66.00% $1,660.00 130.00 30.00% 49.50% $1,495.00 120.00 20.00% 33.00% $1,330.00 110.00 10.00% 16.50% $1,165.00 105.00 5.00% 8.25% $1,082.50 101.00 1.00% 1.65% $1,016.50 100.00 0.00% 0.00% $1,000.00 95.00 -5.00% 0.00% $1,000.00 90.00 -10.00% 0.00% $1,000.00 80.00 -20.00% 0.00% $1,000.00 70.00 -30.00% 0.00% $1,000.00 69.99 -30.01% -30.01% $699.90 60.00 -40.00% -40.00% $600.00 50.00 -50.00% -50.00% $500.00 40.00 -60.00% -60.00% $400.00 30.00 -70.00% -70.00% $300.00 20.00 -80.00% -80.00% $200.00 10.00 -90.00% -90.00% $100.00 0.00 -100.00% -100.00% $0.00 PS-2 | Structured Investments Uncapped Accelerated Barrier Notes Linked to the Lesser Performing of the S&P 500® Index and the Russell 2000® Index The following graph demonstrates the hypothetical payments at maturity on the notes for a sub-set of Lesser Performing Index Returns detailed in the table above (-80% to 50%). There can be no assurance that the performance of the Lesser Performing Index will result in the return of any of your principal amount. How the Notes Work Upside Scenario: If the Final Value of each Index is greater than its Initial Value, investors will receive at maturity the $1,000 principal amount plus a return equal to the Lesser Performing Index Return times the Upside Leverage Factor of at least 1.65. ·Assuming a hypothetical Upside Leverage Factor of 1.65, if the closing level of the Lesser Performing Index increases 10.00%, investors will receive at maturity a 16.50% return, or $1,165.00 per $1,000 principal amount note. Par Scenario: If the Final Value of either Index is equal to or less than its Initial Value but the Final Value of each Index is greater than or equal to its Barrier Amount of 70.00% of its Initial Value, investors will receive at maturity the principal amount of their notes. Downside Scenario: If the Final Value of either Index is less than its Barrier Amount of 70.00% of its Initial Value, investors will lose 1% of the principal amount of their notes for every 1% that the Final Value of the Lesser Performing Index is less than its Initial Value. ·For example, if the closing level of the Lesser Performing Index declines 60.00%, investors will lose 60.00% of their principal amount and receive only $400.00 per $1,000 principal amount note at maturity. The hypothetical returns and hypothetical payments on the notes shown above apply only if you hold the notes for their entire term. These hypotheticals do not reflect the fees or expenses that would be associated with any sale in the secondary market. If these fees and expenses were included, the hypothetical returns and hypothetical payments shown above would likely be lower. Selected Risk Considerations An investment in the notes involves significant risks. These risks are explained in more detail in the “Risk Factors” sections of the accompanying prospectus supplement and product supplement. Risks Relating to the Notes Generally ·YOUR INVESTMENT IN THE NOTES MAY RESULT IN A LOSS — The notes do not guarantee any return of principal. If the Final Value of either Index is less than its Barrier Amount, you will lose 1% of the principal amount of your notes for every 1% that the Final Value of the Lesser Performing Index is less than its Initial Value. Accordingly, under these circumstances, you will lose more than 30.00% of your principal amount at maturity and could lose all of your principal amount at maturity. PS-3 | Structured Investments Uncapped Accelerated Barrier Notes Linked to the Lesser Performing of the S&P 500® Index and the Russell 2000® Index ·CREDIT RISKS OF JPMORGAN FINANCIAL AND JPMORGAN CHASE & CO. — Investors are dependent on our and JPMorgan Chase & Co.’s ability to pay all amounts due on the notes. Any actual or potential change in our or JPMorgan Chase & Co.’s creditworthiness or credit spreads, as determined by the market for taking that credit risk, is likely to adversely affect the value of the notes. If we and JPMorgan Chase & Co. were to default on our payment obligations, you may not receive any amounts owed to you under the notes and you could lose your entire investment. ·AS A FINANCE SUBSIDIARY, JPMORGAN FINANCIAL HAS NO INDEPENDENT OPERATIONS AND HAS LIMITED ASSETS — As a finance subsidiary of JPMorgan Chase & Co., we have no independent operations beyond the issuance and administration of our securities. Aside from the initial capital contribution from JPMorgan Chase & Co., substantially all of our assets relate to obligations of our affiliates to make payments under loans made by us or other intercompany agreements. As a result, we are dependent upon payments from our affiliates to meet our obligations under the notes. If these affiliates do not make payments to us and we fail to make payments on the notes, you may have to seek payment under the related guarantee by JPMorgan Chase & Co., and that guarantee will rank pari passu with all other unsecured and unsubordinated obligations of JPMorgan Chase & Co. ·YOU ARE EXPOSED TO THE RISK OF DECLINE IN THE LEVEL OF EACH INDEX — Payments on the notes are not linked to a basket composed of the Indices and are contingent upon the performance of each individual Index. Poor performance by either of the Indices over the term of the notes may negatively affect your payment at maturity and will not be offset or mitigated by positive performance by the other Index. ·YOUR PAYMENT AT MATURITY WILL BE DETERMINED BY THE LESSER PERFORMING INDEX. ·THE BENEFIT PROVIDED BY THE BARRIER AMOUNT MAY TERMINATE ON THE OBSERVATION DATE — If the Final Value of either Index is less than its Barrier Amount, the benefit provided by the Barrier Amount will terminate and you will be fully exposed to any depreciation of the Lesser Performing Index. ·THE NOTES DO NOT PAY INTEREST. ·YOU WILL NOT RECEIVE DIVIDENDS ON THE SECURITIES INCLUDED IN EITHER INDEX OR HAVE ANY RIGHTS WITH RESPECT TO THOSE SECURITIES. ·THE RISK OF THE CLOSING LEVEL OF AN INDEX FALLING BELOW ITS BARRIER AMOUNT IS GREATER IF THE LEVEL OF THAT INDEX IS VOLATILE. ·LACK OF LIQUIDITY — The notes will not be listed on any securities exchange. Accordingly, the price at which you may be able to trade your notes is likely to depend on the price, if any, at which JPMS is willing to buy the notes. You may not be able to sell your notes. The notes are not designed to be short-term trading instruments. Accordingly, you should be able and willing to hold your notes to maturity. ·THE FINAL TERMS AND VALUATION OF THE NOTES WILL BE PROVIDED IN THE PRICING SUPPLEMENT — You should consider your potential investment in the notes based on the minimums for the estimated value of the notes and the Upside Leverage Factor. Risks Relating to Conflicts of Interest ·POTENTIAL CONFLICTS — We and our affiliates play a variety of roles in connection with the notes. In performing these duties, our and JPMorgan Chase & Co.’s economic interests are potentially adverse to your interests as an investor in the notes. It is possible that hedging or trading activities of ours or our affiliates in connection with the notes could result in substantial returns for us or our affiliates while the value of the notes declines. Please refer to “Risk Factors — Risks Relating to Conflicts of Interest” in the accompanying product supplement. Risks Relating to the Estimated Value and Secondary Market Prices of the Notes ·THE ESTIMATED VALUE OF THE NOTES WILL BE LOWER THAN THE ORIGINAL ISSUE PRICE (PRICE TO PUBLIC) OF THE NOTES — The estimated value of the notes is only an estimate determined by reference to several factors. The original issue price of the notes will exceed the estimated value of the notes because costs associated with selling, structuring and hedging the notes are included in the original issue price of the notes. These costs include the selling commissions, if any, the projected profits, if any, PS-4 | Structured Investments Uncapped Accelerated Barrier Notes Linked to the Lesser Performing of the S&P 500® Index and the Russell 2000® Index that our affiliates expect to realize for assuming risks inherent in hedging our obligations under the notes and the estimated cost of hedging our obligations under the notes. See “The Estimated Value of the Notes” in this pricing supplement. ·THE ESTIMATED VALUE OF THE NOTES DOES NOT REPRESENT FUTURE VALUES OF THE NOTES AND MAY DIFFER FROM OTHERS’ ESTIMATES — See “The Estimated Value of the Notes” in this pricing supplement. ·THE ESTIMATED VALUE OF THE NOTES IS DERIVED BY REFERENCE TO AN INTERNAL FUNDING RATE — The internal funding rate used in the determination of the estimated value of the notes may differ from the market-implied funding rate for vanilla fixed income instruments of a similar maturity issued by JPMorgan Chase & Co. or its affiliates. Any difference may be based on, among other things, our and our affiliates’ view of the funding value of the notes as well as the higher issuance, operational and ongoing liability management costs of the notes in comparison to those costs for the conventional fixed income instruments of JPMorgan Chase & Co. This internal funding rate is based on certain market inputs and assumptions, which may prove to be incorrect, and is intended to approximate the prevailing market replacement funding rate for the notes. The use of an internal funding rate and any potential changes to that rate may have an adverse effect on the terms of the notes and any secondary market prices of the notes. See “The Estimated Value of the Notes” in this pricing supplement. ·THE VALUE OF THE NOTES AS PUBLISHED BY JPMS (AND WHICH MAY BE REFLECTED ON CUSTOMER ACCOUNT STATEMENTS) MAY BE HIGHER THAN THE THEN-CURRENT ESTIMATED VALUE OF THE NOTES FOR A LIMITED TIME PERIOD — We generally expect that some of the costs included in the original issue price of the notes will be partially paid back to you in connection with any repurchases of your notes by JPMS in an amount that will decline to zero over an initial predetermined period. See “Secondary Market Prices of the Notes” in this pricing supplement for additional information relating to this initial period. Accordingly, the estimated value of your notes during this initial period may be lower than the value of the notes as published by JPMS (and which may be shown on your customer account statements). ·SECONDARY MARKET PRICES OF THE NOTES WILL LIKELY BE LOWER THAN THE ORIGINAL ISSUE PRICE OF THE NOTES — Any secondary market prices of the notes will likely be lower than the original issue price of the notes because, among other things, secondary market prices take into account our internal secondary market funding rates for structured debt issuances and, also, because secondary market prices may exclude selling commissions, if any, projected hedging profits, if any, and estimated hedging costs that are included in the original issue price of the notes. As a result, the price, if any, at which JPMS will be willing to buy the notes from you in secondary market transactions, if at all, is likely to be lower than the original issue price. Any sale by you prior to the Maturity Date could result in a substantial loss to you. ·SECONDARY MARKET PRICES OF THE NOTES WILL BE IMPACTED BY MANY ECONOMIC AND MARKET FACTORS — The secondary market price of the notes during their term will be impacted by a number of economic and market factors, which may either offset or magnify each other, aside from the selling commissions, if any, projected hedging profits, if any, estimated hedging costs and the levels of the Indices. Additionally, independent pricing vendors and/or third party broker-dealers may publish a price for the notes, which may also be reflected on customer account statements. This price may be different (higher or lower) than the price of the notes, if any, at which JPMS may be willing to purchase your notes in the secondary market. See “Risk Factors — Risks Relating to the Estimated Value and Secondary Market Prices of the Notes — Secondary market prices of the notes will be impacted by many economic and market factors” in the accompanying product supplement. Risks Relating to the Indices ·JPMORGAN CHASE & CO. IS CURRENTLY ONE OF THE COMPANIES THAT MAKE UP THE S&P 500® INDEX, but JPMorgan Chase & Co. will not have any obligation to consider your interests in taking any corporate action that might affect the level of the S&P 500® Index. ·AN INVESTMENT IN THE NOTES IS SUBJECT TO RISKS ASSOCIATED WITH SMALL CAPITALIZATION STOCKS WITH RESPECT TO THE RUSSELL 2000® INDEX — Small capitalization companies may be less able to withstand adverse economic, market, trade and competitive conditions relative to larger companies. Small capitalization companies are less likely to pay dividends on their stocks, and the presence of a dividend payment could be a factor that limits downward stock price pressure under adverse market conditions. PS-5 | Structured Investments Uncapped Accelerated Barrier Notes Linked to the Lesser Performing of the S&P 500® Index and the Russell 2000® Index The Indices The S&P 500® Index consists of stocks of 500 companies selected to provide a performance benchmark for the U.S. equity markets. For additional information about the S&P 500® Index, see “Equity Index Descriptions — The S&P U.S. Indices” in the accompanying underlying supplement. The Russell 2000® Index consists of the middle 2,000 companies included in the Russell 3000E™ Index and, as a result of the index calculation methodology, consists of the smallest 2,000 companies included in the Russell 3000® Index. The Russell 2000® Index is designed to track the performance of the small capitalization segment of the U.S. equity market. For additional information about the Russell 2000® Index, see “Equity Index Descriptions — The Russell Indices” in the accompanying underlying supplement. Historical Information The following graphs set forth the historical performance of each Index based on the weekly historical closing levels from January 5, 2018 through June 2, 2023. The closing level of the S&P 500® Index on June 7, 2023 was 4,267.52. The closing level of the Russell 2000® Index on June 7, 2023 was 1,888.447. We obtained the closing levels above and below from the Bloomberg Professional® service (“Bloomberg”), without independent verification. The historical closing levels of each Index should not be taken as an indication of future performance, and no assurance can be given as to the closing level of either Index on the Pricing Date or the Observation Date. There can be no assurance that the performance of the Indices will result in the return of any of your principal amount. PS-6 | Structured Investments Uncapped Accelerated Barrier Notes Linked to the Lesser Performing of the S&P 500® Index and the Russell 2000® Index Tax Treatment You should review carefully the section entitled “Material U.S. Federal Income Tax Consequences” in the accompanying product supplement no. 4-I. The following discussion, when read in combination with that section, constitutes the full opinion of our special tax counsel, Davis Polk & Wardwell LLP, regarding the material U.S. federal income tax consequences of owning and disposing of notes. Based on current market conditions, in the opinion of our special tax counsel it is reasonable to treat the notes as “open transactions” that are not debt instruments for U.S. federal income tax purposes, as more fully described in “Material U.S. Federal Income Tax Consequences — Tax Consequences to U.S. Holders — Notes Treated as Open Transactions That Are Not Debt Instruments” in the accompanying product supplement. Assuming this treatment is respected, the gain or loss on your notes should be treated as long-term capital gain or loss if you hold your notes for more than a year, whether or not you are an initial purchaser of notes at the issue price. However, the IRS or a court may not respect this treatment, in which case the timing and character of any income or loss on the notes could be materially and adversely affected. In addition, in 2007 Treasury and the IRS released a notice requesting comments on the U.S. federal income tax treatment of “prepaid forward contracts” and similar instruments. The notice focuses in particular on whether to require investors in these instruments to accrue income over the term of their investment. It also asks for comments on a number of related topics, including the character of income or loss with respect to these instruments; the relevance of factors such as the nature of the underlying property to which the instruments are linked; the degree, if any, to which income (including any mandated accruals) realized by non-U.S. investors should be subject to withholding tax; and whether these instruments are or should be subject to the “constructive ownership” regime, which very generally can operate to recharacterize certain long-term capital gain as ordinary income and impose a notional interest charge. While the notice requests comments on appropriate transition rules and effective dates, any Treasury regulations or other guidance promulgated after consideration of these issues could materially and adversely affect the tax consequences of an investment in the notes, possibly with retroactive effect. You should consult your tax adviser regarding the U.S. federal income tax consequences of an investment in the notes, including possible alternative treatments and the issues presented by this notice. Section 871(m) of the Code and Treasury regulations promulgated thereunder (“Section 871(m)”) generally impose a 30% withholding tax (unless an income tax treaty applies) on dividend equivalents paid or deemed paid to Non-U.S. Holders with respect to certain financial instruments linked to U.S. equities or indices that include U.S. equities. Section 871(m) provides certain exceptions to this withholding regime, including for instruments linked to certain broad-based indices that meet requirements set forth in the applicable Treasury regulations. Additionally, a recent IRS notice excludes from the scope of Section 871(m) instruments issued prior to January 1, 2025 that do not have a delta of one with respect to underlying securities that could pay U.S.-source dividends for U.S. federal income tax purposes (each an “Underlying Security”). Based on certain determinations made by us, we expect that Section 871(m) will not apply to the notes with regard to Non-U.S. Holders. Our determination is not binding on the IRS, and the IRS may disagree with this determination. Section 871(m) is complex and its application may depend on your particular circumstances, including whether you enter into other transactions with respect to an Underlying Security. If necessary, further information regarding the potential application of Section 871(m) will be provided in the pricing supplement for the notes. You should consult your tax adviser regarding the potential application of Section 871(m) to the notes. The Estimated Value of the Notes The estimated value of the notes set forth on the cover of this pricing supplement is equal to the sum of the values of the following hypothetical components: (1) a fixed-income debt component with the same maturity as the notes, valued using the internal funding rate described below, and (2) the derivative or derivatives underlying the economic terms of the notes. The estimated value of the notes does not represent a minimum price at which JPMS would be willing to buy your notes in any secondary market (if any exists) at any time. The internal funding rate used in the determination of the estimated value of the notes may differ from the market-implied funding rate for vanilla fixed income instruments of a similar maturity issued by JPMorgan Chase & Co. or its affiliates. Any difference may be based on, among other things, our and our affiliates’ view of the funding value of the notes as well as the higher issuance, operational and ongoing liability management costs of the notes in comparison to those costs for the conventional fixed income instruments of JPMorgan Chase & Co. This internal funding rate is based on certain market inputs and assumptions, which may prove to be incorrect, and is intended to approximate the prevailing market replacement funding rate for the notes. The use of an internal funding rate and any potential changes to that rate may have an adverse effect on the terms of the notes and any secondary market prices of the notes. For additional information, see “Selected Risk Considerations — Risks Relating to the Estimated Value and Secondary Market Prices of the Notes — The Estimated Value of the Notes Is Derived by Reference to an Internal Funding Rate” in this pricing supplement. The value of the derivative or derivatives underlying the economic terms of the notes is derived from internal pricing models of our affiliates. These models are dependent on inputs such as the traded market prices of comparable derivative instruments and on various other inputs, some of which are market-observable, and which can include volatility, dividend rates, interest rates and other factors, as well as assumptions about future market events and/or environments. Accordingly, the estimated value of the notes is PS-7 | Structured Investments Uncapped Accelerated Barrier Notes Linked to the Lesser Performing of the S&P 500® Index and the Russell 2000® Index determined when the terms of the notes are set based on market conditions and other relevant factors and assumptions existing at that time. The estimated value of the notes does not represent future values of the notes and may differ from others’ estimates. Different pricing models and assumptions could provide valuations for the notes that are greater than or less than the estimated value of the notes. In addition, market conditions and other relevant factors in the future may change, and any assumptions may prove to be incorrect. On future dates, the value of the notes could change significantly based on, among other things, changes in market conditions, our or JPMorgan Chase & Co.’s creditworthiness, interest rate movements and other relevant factors, which may impact the price, if any, at which JPMS would be willing to buy notes from you in secondary market transactions. The estimated value of the notes will be lower than the original issue price of the notes because costs associated with selling, structuring and hedging the notes are included in the original issue price of the notes. These costs include the selling commissions, if any, paid to JPMS and other affiliated or unaffiliated dealers, the projected profits, if any, that our affiliates expect to realize for assuming risks inherent in hedging our obligations under the notes and the estimated cost of hedging our obligations under the notes. Because hedging our obligations entails risk and may be influenced by market forces beyond our control, this hedging may result in a profit that is more or less than expected, or it may result in a loss. A portion of the profits, if any, realized in hedging our obligations under the notes sold to brokerage accounts may be allowed to other affiliated or unaffiliated dealers, and we or one or more of our affiliates will retain any remaining hedging profits. See “Selected Risk Considerations — Risks Relating to the Estimated Value and Secondary Market Prices of the Notes — The Estimated Value of the Notes Will Be Lower Than the Original Issue Price (Price to Public) of the Notes” in this pricing supplement. Secondary Market Prices of the Notes For information about factors that will impact any secondary market prices of the notes, see “Risk Factors — Risks Relating to the Estimated Value and Secondary Market Prices of the Notes — Secondary market prices of the notes will be impacted by many economic and market factors” in the accompanying product supplement. In addition, we generally expect that some of the costs included in the original issue price of the notes will be partially paid back to you in connection with any repurchases of your notes by JPMS in an amount that will decline to zero over an initial predetermined period. These costs can include selling commissions, if any, projected hedging profits, if any, and, in some circumstances, estimated hedging costs and our internal secondary market funding rates for structured debt issuances. This initial predetermined time period is intended to be the shorter of six months and one-half of the stated term of the notes. The length of any such initial period reflects the structure of the notes, whether our affiliates expect to earn a profit in connection with our hedging activities, the estimated costs of hedging the notes and when these costs are incurred, as determined by our affiliates. See “Selected Risk Considerations — Risks Relating to the Estimated Value and Secondary Market Prices of the Notes — The Value of the Notes as Published by JPMS (and Which May Be Reflected on Customer Account Statements) May Be Higher Than the Then-Current Estimated Value of the Notes for a Limited Time Period” in this pricing supplement. Supplemental Use of Proceeds The notes are offered to meet investor demand for products that reflect the risk-return profile and market exposure provided by the notes. See “Hypothetical Payout Profile” and “How the Notes Work” in this pricing supplement for an illustration of the risk-return profile of the notes and “The Indices” in this pricing supplement for a description of the market exposure provided by the notes. The original issue price of the notes is equal to the estimated value of the notes plus the selling commissions, if any, paid to JPMS and other affiliated or unaffiliated dealers, plus (minus) the projected profits (losses) that our affiliates expect to realize for assuming risks inherent in hedging our obligations under the notes, plus the estimated cost of hedging our obligations under the notes. Supplemental Plan of Distribution With respect to notes sold to certain fee-based advisory accounts for which an affiliated or unaffiliated broker-dealer is an investment adviser, the price to the public will not be lower than $994.50 per $1,000 principal amount note. JPMS and these broker-dealers will forgo any selling commissions related to these sales. See “Plan of Distribution (Conflicts of Interest)” in the accompanying product supplement. With respect to notes sold to brokerage accounts, JPMS, acting as agent for JPMorgan Financial, will pay all of the selling commissions it receives from us to other affiliated or unaffiliated dealers. In no event will these selling commissions exceed $5.50 per $1,000 principal amount note. See “Plan of Distribution (Conflicts of Interest)” in the accompanying product supplement. Additional Terms Specific to the Notes You may revoke your offer to purchase the notes at any time prior to the time at which we accept such offer by notifying the applicable agent. We reserve the right to change the terms of, or reject any offer to purchase, the notes prior to their issuance. In the event of any PS-8 | Structured Investments Uncapped Accelerated Barrier Notes Linked to the Lesser Performing of the S&P 500® Index and the Russell 2000® Index changes to the terms of the notes, we will notify you and you will be asked to accept such changes in connection with your purchase. You may also choose to reject such changes, in which case we may reject your offer to purchase. You should read this pricing supplement together with the accompanying prospectus, as supplemented by the accompanying prospectus supplement relating to our Series A medium-term notes of which these notes are a part, and the more detailed information contained in the accompanying product supplement and the accompanying underlying supplement. This pricing supplement, together with the documents listed below, contains the terms of the notes and supersedes all other prior or contemporaneous oral statements as well as any other written materials including preliminary or indicative pricing terms, correspondence, trade ideas, structures for implementation, sample structures, fact sheets, brochures or other educational materials of ours. You should carefully consider, among other things, the matters set forth in the “Risk Factors” sections of the accompanying prospectus supplement and the accompanying product supplement, as the notes involve risks not associated with conventional debt securities. We urge you to consult your investment, legal, tax, accounting and other advisers before you invest in the notes. You may access these documents on the SEC website at www.sec.gov as follows (or if such address has changed, by reviewing our filings for the relevant date on the SEC website): ·Product supplement no. 4-I dated April 13, 2023: http://www.sec.gov/Archives/edgar/data/19617/000121390023029539/ea152803_424b2.pdf ·Underlying supplement no. 1-I dated April 13, 2023: http://www.sec.gov/Archives/edgar/data/19617/000121390023029543/ea151873_424b2.pdf ·Prospectus supplement and prospectus, each dated April 13, 2023: http://www.sec.gov/Archives/edgar/data/19617/000095010323005751/crt_dp192097-424b2.pdf Our Central Index Key, or CIK, on the SEC website is 1665650, and JPMorgan Chase & Co.’s CIK is 19617. As used in this pricing supplement, “we,” “us” and “our” refer to JPMorgan Financial. PS-9 | Structured Investments Uncapped Accelerated Barrier Notes Linked to the Lesser Performing of the S&P 500® Index and the Russell 2000® Index\n"
          ]
        }
      ]
    },
    {
      "cell_type": "code",
      "source": [
        "print(type(string_list[0]))"
      ],
      "metadata": {
        "colab": {
          "base_uri": "https://localhost:8080/"
        },
        "id": "JD3YfqdC_GZa",
        "outputId": "831d0cee-a206-470b-f95b-005906d7a2d4"
      },
      "execution_count": 20,
      "outputs": [
        {
          "output_type": "stream",
          "name": "stdout",
          "text": [
            "<class 'str'>\n"
          ]
        }
      ]
    },
    {
      "cell_type": "code",
      "source": [
        "def count_words(text):\n",
        "    words = text.split()\n",
        "    return len(words)\n",
        "# Example usage\n",
        "word_count = count_words(string_list[0])\n",
        "print(\"Number of words:\", word_count)"
      ],
      "metadata": {
        "colab": {
          "base_uri": "https://localhost:8080/"
        },
        "id": "AJXN6X26_K29",
        "outputId": "8d9f0b3c-b6fe-43a6-b950-1e163c91dbca"
      },
      "execution_count": 21,
      "outputs": [
        {
          "output_type": "stream",
          "name": "stdout",
          "text": [
            "Number of words: 6142\n"
          ]
        }
      ]
    },
    {
      "cell_type": "code",
      "source": [
        "list_of_ques=['What is Cusip No?', 'What is the Maturity Date?', ' What is the Issue Date?' ,\n",
        "              'What is Coupon Rate?']"
      ],
      "metadata": {
        "id": "2bYRGmET_iED"
      },
      "execution_count": null,
      "outputs": []
    },
    {
      "cell_type": "code",
      "source": [
        "train_examples = [\n",
        "    {\n",
        "        'context': string_list[0],\n",
        "        'question':list_of_ques[0],\n",
        "        'answer': '48133WVY1'\n",
        "    },\n",
        "    {\n",
        "        'context': string_list[0],\n",
        "        'question': list_of_ques[1],\n",
        "        'answer': '48133WVY1'\n",
        "    },\n",
        "    {\n",
        "        'context': string_list[0],\n",
        "        'question': list_of_ques[2],\n",
        "        'answer': '48133WVY1'\n",
        "    },\n",
        "    {\n",
        "        'context': para1,\n",
        "        'question': 'What is the CUSIP/ISN ?',\n",
        "        'answer': '48133WVY1'\n",
        "    },\n",
        "    # Add more training examples...\n",
        "]"
      ],
      "metadata": {
        "id": "N5I8ngMLBXpQ"
      },
      "execution_count": null,
      "outputs": []
    }
  ]
}